{
 "cells": [
  {
   "cell_type": "markdown",
   "metadata": {},
   "source": [
    "# Final assignment - Sophie Kieftenbelt"
   ]
  },
  {
   "cell_type": "markdown",
   "metadata": {},
   "source": [
    "1. Introduction: define the context, the research question and the practical relevance\n",
    "    \n",
    "In this assignment I want to see if there is a correlation between the sales of the pastries from one of the stores of the supermarket LIDL and the weather and season/weekday\n",
    "\n",
    "RQ: Is there a correlation between the total sales per day and the weather/season/weekday and how would the prediction, with the method linear regression, be like with these variable? \n",
    "\n",
    "The relevance is that in this way LIDL can use this information to respond to the information that is relevant for instance if they can do discount promotions in lower selling season/weather or weekday. "
   ]
  },
  {
   "cell_type": "markdown",
   "metadata": {},
   "source": [
    "2. Data set: explain how you acquired the data, and show your data cleaning steps\n",
    "\n",
    "I received the dataset from my manager from Lidl through email it is the sales of all pastries for 1 year and from 1 store. The dataset for the Rainfall, Sunshine and Temperature I retrieved through the royal dutch meteorological institute (KNMI) \n",
    "\n",
    "In the lidl dataset I change \"--\" by using excel and changed it in a \"0\" so it stays nummerical. I used text editor to change to \".\" from the number in the row \"Total sales per day\" since otherwist it was 1,390 instead of 1.390 which in a difference in thousand or one. \n",
    "The dataset for the temperature I received in 0.1 degrees. Which means the data says 240 degrees but it is actually 24 degrees. \n",
    "I added the variable season to the dataset to see if season have a correlation with the sales. The steps are explained through out the data cleaning chapter."
   ]
  },
  {
   "cell_type": "markdown",
   "metadata": {},
   "source": [
    "Feature engineering: explain which transformations you have made to make your variables more informative (e.g., calculating number of days from a starting date)\n",
    "\n",
    "First I changed the Date with a built-in method of python to the Dtype \"datetime\".\n",
    "I added the variables \"season\" and \"Weekday\" to the dataset. It added the season variable with a function and the Weekday variable with a built-in method from python. \n"
   ]
  },
  {
   "cell_type": "markdown",
   "metadata": {},
   "source": [
    "Descriptive analysis: present relevant graphs, tables and numbers with respect to your problem\n",
    "\n",
    "These graphs can be find with the following numbers "
   ]
  },
  {
   "cell_type": "markdown",
   "metadata": {},
   "source": [
    "Predictive model: explain which analysis you have chosen and why. In which you build a relevant statistical model or train a machine learning algorithm."
   ]
  },
  {
   "cell_type": "markdown",
   "metadata": {},
   "source": [
    "Evaluation: evaluate the model: numerically, qualitatively and in terms of practical value."
   ]
  },
  {
   "cell_type": "markdown",
   "metadata": {},
   "source": [
    "# Reading data and summarizing"
   ]
  },
  {
   "cell_type": "code",
   "execution_count": 388,
   "metadata": {
    "scrolled": true
   },
   "outputs": [
    {
     "data": {
      "text/html": [
       "<div>\n",
       "<style scoped>\n",
       "    .dataframe tbody tr th:only-of-type {\n",
       "        vertical-align: middle;\n",
       "    }\n",
       "\n",
       "    .dataframe tbody tr th {\n",
       "        vertical-align: top;\n",
       "    }\n",
       "\n",
       "    .dataframe thead th {\n",
       "        text-align: right;\n",
       "    }\n",
       "</style>\n",
       "<table border=\"1\" class=\"dataframe\">\n",
       "  <thead>\n",
       "    <tr style=\"text-align: right;\">\n",
       "      <th></th>\n",
       "      <th>Date</th>\n",
       "      <th>Petit pain tarwe bake-off</th>\n",
       "      <th>Panini rustico meergr. bake-off</th>\n",
       "      <th>Rozijnenbroodje bake-off</th>\n",
       "      <th>Steenoven baguette wit bake-off</th>\n",
       "      <th>Steenoven baguette meerz. bake-off</th>\n",
       "      <th>Amandel croissant bake-off</th>\n",
       "      <th>Pecannotenbroodje bake-off</th>\n",
       "      <th>Tijgerbroodje bake-off</th>\n",
       "      <th>Frans stokbrood</th>\n",
       "      <th>...</th>\n",
       "      <th>Rookworst broodje bake-off</th>\n",
       "      <th>Gehaktbal broodje curry Bake-off</th>\n",
       "      <th>Red velvet cookie bake-off</th>\n",
       "      <th>Mini stoofperentaart bake-off</th>\n",
       "      <th>Mini speculaastaartje bake-off</th>\n",
       "      <th>Bake-off Speculaas banket staafjes</th>\n",
       "      <th>Bake-off mini stolletje</th>\n",
       "      <th>Suikerwafel bake-off</th>\n",
       "      <th>Simit sesamring</th>\n",
       "      <th>Total sales per day</th>\n",
       "    </tr>\n",
       "  </thead>\n",
       "  <tbody>\n",
       "    <tr>\n",
       "      <th>0</th>\n",
       "      <td>01-12-19</td>\n",
       "      <td>15.0</td>\n",
       "      <td>7.0</td>\n",
       "      <td>30.0</td>\n",
       "      <td>24.0</td>\n",
       "      <td>21.0</td>\n",
       "      <td>0</td>\n",
       "      <td>12.0</td>\n",
       "      <td>38.0</td>\n",
       "      <td>0</td>\n",
       "      <td>...</td>\n",
       "      <td>0</td>\n",
       "      <td>0</td>\n",
       "      <td>0</td>\n",
       "      <td>0</td>\n",
       "      <td>0</td>\n",
       "      <td>0</td>\n",
       "      <td>0</td>\n",
       "      <td>0</td>\n",
       "      <td>0</td>\n",
       "      <td>1538.0</td>\n",
       "    </tr>\n",
       "    <tr>\n",
       "      <th>1</th>\n",
       "      <td>02-12-19</td>\n",
       "      <td>17.0</td>\n",
       "      <td>15.0</td>\n",
       "      <td>36.0</td>\n",
       "      <td>17.0</td>\n",
       "      <td>9.0</td>\n",
       "      <td>0</td>\n",
       "      <td>14.0</td>\n",
       "      <td>43.0</td>\n",
       "      <td>0</td>\n",
       "      <td>...</td>\n",
       "      <td>0</td>\n",
       "      <td>0</td>\n",
       "      <td>0</td>\n",
       "      <td>0</td>\n",
       "      <td>0</td>\n",
       "      <td>0</td>\n",
       "      <td>0</td>\n",
       "      <td>0</td>\n",
       "      <td>0</td>\n",
       "      <td>1263.0</td>\n",
       "    </tr>\n",
       "    <tr>\n",
       "      <th>2</th>\n",
       "      <td>03-12-19</td>\n",
       "      <td>14.0</td>\n",
       "      <td>13.0</td>\n",
       "      <td>45.0</td>\n",
       "      <td>5.0</td>\n",
       "      <td>12.0</td>\n",
       "      <td>0</td>\n",
       "      <td>12.0</td>\n",
       "      <td>34.0</td>\n",
       "      <td>0</td>\n",
       "      <td>...</td>\n",
       "      <td>0</td>\n",
       "      <td>0</td>\n",
       "      <td>0</td>\n",
       "      <td>0</td>\n",
       "      <td>0</td>\n",
       "      <td>0</td>\n",
       "      <td>0</td>\n",
       "      <td>0</td>\n",
       "      <td>0</td>\n",
       "      <td>1265.0</td>\n",
       "    </tr>\n",
       "    <tr>\n",
       "      <th>3</th>\n",
       "      <td>04-12-19</td>\n",
       "      <td>22.0</td>\n",
       "      <td>20.0</td>\n",
       "      <td>62.0</td>\n",
       "      <td>14.0</td>\n",
       "      <td>17.0</td>\n",
       "      <td>0</td>\n",
       "      <td>21.0</td>\n",
       "      <td>25.0</td>\n",
       "      <td>0</td>\n",
       "      <td>...</td>\n",
       "      <td>0</td>\n",
       "      <td>0</td>\n",
       "      <td>0</td>\n",
       "      <td>0</td>\n",
       "      <td>0</td>\n",
       "      <td>0</td>\n",
       "      <td>0</td>\n",
       "      <td>0</td>\n",
       "      <td>0</td>\n",
       "      <td>1509.0</td>\n",
       "    </tr>\n",
       "    <tr>\n",
       "      <th>4</th>\n",
       "      <td>05-12-19</td>\n",
       "      <td>13.0</td>\n",
       "      <td>57.0</td>\n",
       "      <td>76.0</td>\n",
       "      <td>25.0</td>\n",
       "      <td>23.0</td>\n",
       "      <td>0</td>\n",
       "      <td>21.0</td>\n",
       "      <td>41.0</td>\n",
       "      <td>0</td>\n",
       "      <td>...</td>\n",
       "      <td>0</td>\n",
       "      <td>0</td>\n",
       "      <td>0</td>\n",
       "      <td>0</td>\n",
       "      <td>0</td>\n",
       "      <td>0</td>\n",
       "      <td>0</td>\n",
       "      <td>0</td>\n",
       "      <td>0</td>\n",
       "      <td>1748.0</td>\n",
       "    </tr>\n",
       "  </tbody>\n",
       "</table>\n",
       "<p>5 rows × 114 columns</p>\n",
       "</div>"
      ],
      "text/plain": [
       "       Date  Petit pain tarwe bake-off  Panini rustico meergr. bake-off  \\\n",
       "0  01-12-19                       15.0                              7.0   \n",
       "1  02-12-19                       17.0                             15.0   \n",
       "2  03-12-19                       14.0                             13.0   \n",
       "3  04-12-19                       22.0                             20.0   \n",
       "4  05-12-19                       13.0                             57.0   \n",
       "\n",
       "   Rozijnenbroodje bake-off  Steenoven baguette wit bake-off  \\\n",
       "0                      30.0                             24.0   \n",
       "1                      36.0                             17.0   \n",
       "2                      45.0                              5.0   \n",
       "3                      62.0                             14.0   \n",
       "4                      76.0                             25.0   \n",
       "\n",
       "   Steenoven baguette meerz. bake-off  Amandel croissant bake-off  \\\n",
       "0                                21.0                           0   \n",
       "1                                 9.0                           0   \n",
       "2                                12.0                           0   \n",
       "3                                17.0                           0   \n",
       "4                                23.0                           0   \n",
       "\n",
       "   Pecannotenbroodje bake-off  Tijgerbroodje bake-off  Frans stokbrood  ...  \\\n",
       "0                        12.0                    38.0                0  ...   \n",
       "1                        14.0                    43.0                0  ...   \n",
       "2                        12.0                    34.0                0  ...   \n",
       "3                        21.0                    25.0                0  ...   \n",
       "4                        21.0                    41.0                0  ...   \n",
       "\n",
       "   Rookworst broodje bake-off  Gehaktbal broodje curry Bake-off  \\\n",
       "0                           0                                 0   \n",
       "1                           0                                 0   \n",
       "2                           0                                 0   \n",
       "3                           0                                 0   \n",
       "4                           0                                 0   \n",
       "\n",
       "   Red velvet cookie bake-off  Mini stoofperentaart bake-off  \\\n",
       "0                           0                              0   \n",
       "1                           0                              0   \n",
       "2                           0                              0   \n",
       "3                           0                              0   \n",
       "4                           0                              0   \n",
       "\n",
       "   Mini speculaastaartje bake-off  Bake-off Speculaas banket staafjes  \\\n",
       "0                               0                                   0   \n",
       "1                               0                                   0   \n",
       "2                               0                                   0   \n",
       "3                               0                                   0   \n",
       "4                               0                                   0   \n",
       "\n",
       "   Bake-off mini stolletje  Suikerwafel bake-off  Simit sesamring  \\\n",
       "0                        0                     0                0   \n",
       "1                        0                     0                0   \n",
       "2                        0                     0                0   \n",
       "3                        0                     0                0   \n",
       "4                        0                     0                0   \n",
       "\n",
       "   Total sales per day  \n",
       "0               1538.0  \n",
       "1               1263.0  \n",
       "2               1265.0  \n",
       "3               1509.0  \n",
       "4               1748.0  \n",
       "\n",
       "[5 rows x 114 columns]"
      ]
     },
     "execution_count": 388,
     "metadata": {},
     "output_type": "execute_result"
    }
   ],
   "source": [
    "import seaborn as sns\n",
    "import sklearn as sk\n",
    "import pandas as pd\n",
    "import matplotlib.pyplot as plt\n",
    "from sklearn.model_selection import train_test_split\n",
    "import math\n",
    "from sklearn.linear_model import LinearRegression \n",
    "from sklearn.metrics import mean_squared_error\n",
    "from sklearn.metrics import r2_score\n",
    "import numpy as np\n",
    "\n",
    "\n",
    "df1 = pd.read_csv('Lidlset.csv', sep=';', engine='python')\n",
    "df1.head()\n"
   ]
  },
  {
   "cell_type": "code",
   "execution_count": 379,
   "metadata": {
    "scrolled": true
   },
   "outputs": [
    {
     "data": {
      "text/html": [
       "<div>\n",
       "<style scoped>\n",
       "    .dataframe tbody tr th:only-of-type {\n",
       "        vertical-align: middle;\n",
       "    }\n",
       "\n",
       "    .dataframe tbody tr th {\n",
       "        vertical-align: top;\n",
       "    }\n",
       "\n",
       "    .dataframe thead th {\n",
       "        text-align: right;\n",
       "    }\n",
       "</style>\n",
       "<table border=\"1\" class=\"dataframe\">\n",
       "  <thead>\n",
       "    <tr style=\"text-align: right;\">\n",
       "      <th></th>\n",
       "      <th>Date</th>\n",
       "      <th>Temp 0.1 graden</th>\n",
       "      <th>Sunshine dura</th>\n",
       "      <th>Rainfall dura</th>\n",
       "    </tr>\n",
       "  </thead>\n",
       "  <tbody>\n",
       "    <tr>\n",
       "      <th>0</th>\n",
       "      <td>01-12-19</td>\n",
       "      <td>24</td>\n",
       "      <td>24</td>\n",
       "      <td>0</td>\n",
       "    </tr>\n",
       "    <tr>\n",
       "      <th>1</th>\n",
       "      <td>02-12-19</td>\n",
       "      <td>79</td>\n",
       "      <td>50</td>\n",
       "      <td>12</td>\n",
       "    </tr>\n",
       "    <tr>\n",
       "      <th>2</th>\n",
       "      <td>03-12-19</td>\n",
       "      <td>74</td>\n",
       "      <td>68</td>\n",
       "      <td>0</td>\n",
       "    </tr>\n",
       "    <tr>\n",
       "      <th>3</th>\n",
       "      <td>04-12-19</td>\n",
       "      <td>62</td>\n",
       "      <td>68</td>\n",
       "      <td>0</td>\n",
       "    </tr>\n",
       "    <tr>\n",
       "      <th>4</th>\n",
       "      <td>05-12-19</td>\n",
       "      <td>37</td>\n",
       "      <td>0</td>\n",
       "      <td>0</td>\n",
       "    </tr>\n",
       "  </tbody>\n",
       "</table>\n",
       "</div>"
      ],
      "text/plain": [
       "       Date  Temp 0.1 graden  Sunshine dura  Rainfall dura\n",
       "0  01-12-19               24             24              0\n",
       "1  02-12-19               79             50             12\n",
       "2  03-12-19               74             68              0\n",
       "3  04-12-19               62             68              0\n",
       "4  05-12-19               37              0              0"
      ]
     },
     "execution_count": 379,
     "metadata": {},
     "output_type": "execute_result"
    }
   ],
   "source": [
    "df2 = pd.read_csv('knmi1.csv', sep=';', engine='python')\n",
    "df2.head()"
   ]
  },
  {
   "cell_type": "code",
   "execution_count": 380,
   "metadata": {
    "scrolled": true
   },
   "outputs": [
    {
     "data": {
      "text/html": [
       "<div>\n",
       "<style scoped>\n",
       "    .dataframe tbody tr th:only-of-type {\n",
       "        vertical-align: middle;\n",
       "    }\n",
       "\n",
       "    .dataframe tbody tr th {\n",
       "        vertical-align: top;\n",
       "    }\n",
       "\n",
       "    .dataframe thead th {\n",
       "        text-align: right;\n",
       "    }\n",
       "</style>\n",
       "<table border=\"1\" class=\"dataframe\">\n",
       "  <thead>\n",
       "    <tr style=\"text-align: right;\">\n",
       "      <th></th>\n",
       "      <th>Date</th>\n",
       "      <th>Petit pain tarwe bake-off</th>\n",
       "      <th>Panini rustico meergr. bake-off</th>\n",
       "      <th>Rozijnenbroodje bake-off</th>\n",
       "      <th>Steenoven baguette wit bake-off</th>\n",
       "      <th>Steenoven baguette meerz. bake-off</th>\n",
       "      <th>Amandel croissant bake-off</th>\n",
       "      <th>Pecannotenbroodje bake-off</th>\n",
       "      <th>Tijgerbroodje bake-off</th>\n",
       "      <th>Frans stokbrood</th>\n",
       "      <th>...</th>\n",
       "      <th>Mini stoofperentaart bake-off</th>\n",
       "      <th>Mini speculaastaartje bake-off</th>\n",
       "      <th>Bake-off Speculaas banket staafjes</th>\n",
       "      <th>Bake-off mini stolletje</th>\n",
       "      <th>Suikerwafel bake-off</th>\n",
       "      <th>Simit sesamring</th>\n",
       "      <th>Total sales per day</th>\n",
       "      <th>Temp 0.1 graden</th>\n",
       "      <th>Sunshine dura</th>\n",
       "      <th>Rainfall dura</th>\n",
       "    </tr>\n",
       "  </thead>\n",
       "  <tbody>\n",
       "    <tr>\n",
       "      <th>0</th>\n",
       "      <td>01-12-19</td>\n",
       "      <td>15.0</td>\n",
       "      <td>7.0</td>\n",
       "      <td>30.0</td>\n",
       "      <td>24.0</td>\n",
       "      <td>21.0</td>\n",
       "      <td>0</td>\n",
       "      <td>12.0</td>\n",
       "      <td>38.0</td>\n",
       "      <td>0</td>\n",
       "      <td>...</td>\n",
       "      <td>0</td>\n",
       "      <td>0</td>\n",
       "      <td>0</td>\n",
       "      <td>0</td>\n",
       "      <td>0</td>\n",
       "      <td>0</td>\n",
       "      <td>1538.0</td>\n",
       "      <td>24</td>\n",
       "      <td>24</td>\n",
       "      <td>0</td>\n",
       "    </tr>\n",
       "    <tr>\n",
       "      <th>1</th>\n",
       "      <td>02-12-19</td>\n",
       "      <td>17.0</td>\n",
       "      <td>15.0</td>\n",
       "      <td>36.0</td>\n",
       "      <td>17.0</td>\n",
       "      <td>9.0</td>\n",
       "      <td>0</td>\n",
       "      <td>14.0</td>\n",
       "      <td>43.0</td>\n",
       "      <td>0</td>\n",
       "      <td>...</td>\n",
       "      <td>0</td>\n",
       "      <td>0</td>\n",
       "      <td>0</td>\n",
       "      <td>0</td>\n",
       "      <td>0</td>\n",
       "      <td>0</td>\n",
       "      <td>1263.0</td>\n",
       "      <td>79</td>\n",
       "      <td>50</td>\n",
       "      <td>12</td>\n",
       "    </tr>\n",
       "    <tr>\n",
       "      <th>2</th>\n",
       "      <td>03-12-19</td>\n",
       "      <td>14.0</td>\n",
       "      <td>13.0</td>\n",
       "      <td>45.0</td>\n",
       "      <td>5.0</td>\n",
       "      <td>12.0</td>\n",
       "      <td>0</td>\n",
       "      <td>12.0</td>\n",
       "      <td>34.0</td>\n",
       "      <td>0</td>\n",
       "      <td>...</td>\n",
       "      <td>0</td>\n",
       "      <td>0</td>\n",
       "      <td>0</td>\n",
       "      <td>0</td>\n",
       "      <td>0</td>\n",
       "      <td>0</td>\n",
       "      <td>1265.0</td>\n",
       "      <td>74</td>\n",
       "      <td>68</td>\n",
       "      <td>0</td>\n",
       "    </tr>\n",
       "    <tr>\n",
       "      <th>3</th>\n",
       "      <td>04-12-19</td>\n",
       "      <td>22.0</td>\n",
       "      <td>20.0</td>\n",
       "      <td>62.0</td>\n",
       "      <td>14.0</td>\n",
       "      <td>17.0</td>\n",
       "      <td>0</td>\n",
       "      <td>21.0</td>\n",
       "      <td>25.0</td>\n",
       "      <td>0</td>\n",
       "      <td>...</td>\n",
       "      <td>0</td>\n",
       "      <td>0</td>\n",
       "      <td>0</td>\n",
       "      <td>0</td>\n",
       "      <td>0</td>\n",
       "      <td>0</td>\n",
       "      <td>1509.0</td>\n",
       "      <td>62</td>\n",
       "      <td>68</td>\n",
       "      <td>0</td>\n",
       "    </tr>\n",
       "    <tr>\n",
       "      <th>4</th>\n",
       "      <td>05-12-19</td>\n",
       "      <td>13.0</td>\n",
       "      <td>57.0</td>\n",
       "      <td>76.0</td>\n",
       "      <td>25.0</td>\n",
       "      <td>23.0</td>\n",
       "      <td>0</td>\n",
       "      <td>21.0</td>\n",
       "      <td>41.0</td>\n",
       "      <td>0</td>\n",
       "      <td>...</td>\n",
       "      <td>0</td>\n",
       "      <td>0</td>\n",
       "      <td>0</td>\n",
       "      <td>0</td>\n",
       "      <td>0</td>\n",
       "      <td>0</td>\n",
       "      <td>1748.0</td>\n",
       "      <td>37</td>\n",
       "      <td>0</td>\n",
       "      <td>0</td>\n",
       "    </tr>\n",
       "  </tbody>\n",
       "</table>\n",
       "<p>5 rows × 117 columns</p>\n",
       "</div>"
      ],
      "text/plain": [
       "       Date  Petit pain tarwe bake-off  Panini rustico meergr. bake-off  \\\n",
       "0  01-12-19                       15.0                              7.0   \n",
       "1  02-12-19                       17.0                             15.0   \n",
       "2  03-12-19                       14.0                             13.0   \n",
       "3  04-12-19                       22.0                             20.0   \n",
       "4  05-12-19                       13.0                             57.0   \n",
       "\n",
       "   Rozijnenbroodje bake-off  Steenoven baguette wit bake-off  \\\n",
       "0                      30.0                             24.0   \n",
       "1                      36.0                             17.0   \n",
       "2                      45.0                              5.0   \n",
       "3                      62.0                             14.0   \n",
       "4                      76.0                             25.0   \n",
       "\n",
       "   Steenoven baguette meerz. bake-off  Amandel croissant bake-off  \\\n",
       "0                                21.0                           0   \n",
       "1                                 9.0                           0   \n",
       "2                                12.0                           0   \n",
       "3                                17.0                           0   \n",
       "4                                23.0                           0   \n",
       "\n",
       "   Pecannotenbroodje bake-off  Tijgerbroodje bake-off  Frans stokbrood  ...  \\\n",
       "0                        12.0                    38.0                0  ...   \n",
       "1                        14.0                    43.0                0  ...   \n",
       "2                        12.0                    34.0                0  ...   \n",
       "3                        21.0                    25.0                0  ...   \n",
       "4                        21.0                    41.0                0  ...   \n",
       "\n",
       "   Mini stoofperentaart bake-off  Mini speculaastaartje bake-off  \\\n",
       "0                              0                               0   \n",
       "1                              0                               0   \n",
       "2                              0                               0   \n",
       "3                              0                               0   \n",
       "4                              0                               0   \n",
       "\n",
       "   Bake-off Speculaas banket staafjes  Bake-off mini stolletje  \\\n",
       "0                                   0                        0   \n",
       "1                                   0                        0   \n",
       "2                                   0                        0   \n",
       "3                                   0                        0   \n",
       "4                                   0                        0   \n",
       "\n",
       "   Suikerwafel bake-off  Simit sesamring  Total sales per day  \\\n",
       "0                     0                0               1538.0   \n",
       "1                     0                0               1263.0   \n",
       "2                     0                0               1265.0   \n",
       "3                     0                0               1509.0   \n",
       "4                     0                0               1748.0   \n",
       "\n",
       "   Temp 0.1 graden  Sunshine dura  Rainfall dura  \n",
       "0               24             24              0  \n",
       "1               79             50             12  \n",
       "2               74             68              0  \n",
       "3               62             68              0  \n",
       "4               37              0              0  \n",
       "\n",
       "[5 rows x 117 columns]"
      ]
     },
     "execution_count": 380,
     "metadata": {},
     "output_type": "execute_result"
    }
   ],
   "source": [
    "df = pd.merge(df1, df2, on = 'Date') \n",
    "df.head()"
   ]
  },
  {
   "cell_type": "markdown",
   "metadata": {},
   "source": [
    "Here I added the two datasets and merged them based on the variable \"Date\"."
   ]
  },
  {
   "cell_type": "markdown",
   "metadata": {},
   "source": [
    "# Data cleaning and pre-processing "
   ]
  },
  {
   "cell_type": "markdown",
   "metadata": {},
   "source": [
    "In this chapter I converted the \"Date\" in datetime, I added the variable \"season\" with a function and created the variable \"Weekday\". "
   ]
  },
  {
   "cell_type": "code",
   "execution_count": 381,
   "metadata": {
    "scrolled": true
   },
   "outputs": [],
   "source": [
    "df[\"NewDate\"] = pd.to_datetime(df[\"Date\"], dayfirst=True)"
   ]
  },
  {
   "cell_type": "code",
   "execution_count": 382,
   "metadata": {},
   "outputs": [
    {
     "name": "stdout",
     "output_type": "stream",
     "text": [
      "<class 'pandas.core.frame.DataFrame'>\n",
      "Int64Index: 363 entries, 0 to 362\n",
      "Data columns (total 118 columns):\n",
      " #   Column                               Dtype         \n",
      "---  ------                               -----         \n",
      " 0   Date                                 object        \n",
      " 1   Petit pain tarwe bake-off            float64       \n",
      " 2   Panini rustico meergr. bake-off      float64       \n",
      " 3   Rozijnenbroodje bake-off             float64       \n",
      " 4   Steenoven baguette wit bake-off      float64       \n",
      " 5   Steenoven baguette meerz. bake-off   float64       \n",
      " 6   Amandel croissant bake-off           int64         \n",
      " 7   Pecannotenbroodje bake-off           float64       \n",
      " 8   Tijgerbroodje bake-off               float64       \n",
      " 9   Frans stokbrood                      int64         \n",
      " 10  Baguette wit bake-off                float64       \n",
      " 11  Kaasbroodje goudse bake-off          int64         \n",
      " 12  Kaiserbroodje bake-off               int64         \n",
      " 13  Chocobroodje bake-off                float64       \n",
      " 14  Koffiebroodje bake-off               int64         \n",
      " 15  Focaccia mediterraans bake-off       float64       \n",
      " 16  Appelflap bake-off                   float64       \n",
      " 17  Croissant ham/kaas bake-off          float64       \n",
      " 18  Kaneelbroodje bake-off               float64       \n",
      " 19  Amandel roombroodje bake-off (T)     int64         \n",
      " 20  Schnittbroodje wit bake-off          float64       \n",
      " 21  Pompoenpitbroodje bake-off           float64       \n",
      " 22  Kampioentje bake-off                 int64         \n",
      " 23  Donut gesuikerd bake-off             float64       \n",
      " 24  Pretzel bake-off (T)                 float64       \n",
      " 25  Kaaspretzel                          int64         \n",
      " 26  Donut vanillevulling bake-off        float64       \n",
      " 27  Walnoten broodje bake-off            int64         \n",
      " 28  Donut Halloween bake-off             int64         \n",
      " 29  Berlinerbol bake-off                 int64         \n",
      " 30  Lente Donut bake off                 int64         \n",
      " 31  Speltbroodje bake-off (T)            float64       \n",
      " 32  Kaastwister bake-off (T)             float64       \n",
      " 33  Ciabatta bake-off (T)                int64         \n",
      " 34  Focaccia pizza                       int64         \n",
      " 35  Vijgenwalnootbrood bake-off          int64         \n",
      " 36  Bagel Bake-Off                       int64         \n",
      " 37  Pistolet rustiek bake-off            int64         \n",
      " 38  Roombotercroissant bake-off          float64       \n",
      " 39  Bosvruchtencrumble Bake-off          int64         \n",
      " 40  Donut gevuld blauwe bessen Bake-off  int64         \n",
      " 41  Mini calzone Margherita              int64         \n",
      " 42  Croissant kaas bake-off              int64         \n",
      " 43  Pastel de Nata bake-off (T)          float64       \n",
      " 44  Croissant meergranen bake-off        int64         \n",
      " 45  Donut gevuld caramel bake-off        int64         \n",
      " 46  Donut marshmallow                    int64         \n",
      " 47  Donut Toffee-fudge brownie bake off  int64         \n",
      " 48  Berlinerhart bake off                int64         \n",
      " 49  Pistolet volkoren bio bake-off       int64         \n",
      " 50  Bio baguette wit bake-off            int64         \n",
      " 51  Bio meergranen baguette bake-off     int64         \n",
      " 52  Bio batard meergranen bake-off       int64         \n",
      " 53  Milka muffins                        int64         \n",
      " 54  Hotdog BBQ bake-off                  int64         \n",
      " 55  Batard meergranen bio bake-off       int64         \n",
      " 56  Speculaas croissant (bake-off)       int64         \n",
      " 57  Donut karamel zeezout bake off       int64         \n",
      " 58  Ham-kaashoorntje                     int64         \n",
      " 59  Chocolade donut XXL                  int64         \n",
      " 60  Mini donuts kaneel suiker 9stuks     int64         \n",
      " 61  Choco donuts bake-off                int64         \n",
      " 62  Party donuts 4 stuks in blister      int64         \n",
      " 63  Witte pistolet bake-off              int64         \n",
      " 64  Kaasbroodje vierkant                 int64         \n",
      " 65  Kerstdonut                           int64         \n",
      " 66  Madeleine hazelnoot/chocolade        int64         \n",
      " 67  Spaanse Ensaimada                    int64         \n",
      " 68  Chocolade donut bake-off (T)         float64       \n",
      " 69  Croissant briochedeeg bake off       int64         \n",
      " 70  Croissant met abrikozenvulling       int64         \n",
      " 71  Croissant met bakkersroom vulling    int64         \n",
      " 72  Spinazie snack bake-off              int64         \n",
      " 73  Borek, gevulde deeg bladen           int64         \n",
      " 74  Kaas snack Bake-off                  int64         \n",
      " 75  Borek spinazie en kaas               int64         \n",
      " 76  Gevulde koek bake-off                float64       \n",
      " 77  Batard rustiek wit bake-off          float64       \n",
      " 78  Batard meergranen bake-off           int64         \n",
      " 79  Speculaas gevulde koek bake-off      int64         \n",
      " 80  Chocolate Cookie bake-off            int64         \n",
      " 81  Cookie double choc. bake off         int64         \n",
      " 82  Oliebol Bake-Off                     float64       \n",
      " 83  Appelbeignets mini Bake-off          int64         \n",
      " 84  Appeltaartjes mini bake-off          float64       \n",
      " 85  Batard meergranen bio bake-off.1     int64         \n",
      " 86  Bio pistolet volkoren bake-off       int64         \n",
      " 87  Pistolet meergranen bio bake-off     int64         \n",
      " 88  Baguette wit bio bake-off            int64         \n",
      " 89  Baguette meergranen bio bake-off     int64         \n",
      " 90  Pide Bake-Off                        int64         \n",
      " 91  Saucijzenbroodje bake-off            float64       \n",
      " 92  Frikandelbroodje Bake-Off            int64         \n",
      " 93  Kaasbroodje bake-off                 float64       \n",
      " 94  Cookie lente Bake-Off                int64         \n",
      " 95  Appeltaart groot bake-off            int64         \n",
      " 96  Batard kerstbrood bake-off           int64         \n",
      " 97  Vlaaitje gele room                   int64         \n",
      " 98  Tijger wit bake-off                  int64         \n",
      " 99  Tijger bruin bake-off                int64         \n",
      " 100 Meergranenbrood bake-off             int64         \n",
      " 101 Boeren zonnebl.pit.br. bake-off      int64         \n",
      " 102 Volkoren brood bake-off              int64         \n",
      " 103 Cookie macadamia bake-off            int64         \n",
      " 104 Rookworst broodje bake-off           int64         \n",
      " 105 Gehaktbal broodje curry Bake-off     int64         \n",
      " 106 Red velvet cookie bake-off           int64         \n",
      " 107 Mini stoofperentaart bake-off        int64         \n",
      " 108 Mini speculaastaartje bake-off       int64         \n",
      " 109 Bake-off Speculaas banket staafjes   int64         \n",
      " 110 Bake-off mini stolletje              int64         \n",
      " 111 Suikerwafel bake-off                 int64         \n",
      " 112 Simit sesamring                      int64         \n",
      " 113 Total sales per day                  float64       \n",
      " 114 Temp 0.1 graden                      int64         \n",
      " 115 Sunshine dura                        int64         \n",
      " 116 Rainfall dura                        int64         \n",
      " 117 NewDate                              datetime64[ns]\n",
      "dtypes: datetime64[ns](1), float64(30), int64(86), object(1)\n",
      "memory usage: 337.5+ KB\n"
     ]
    }
   ],
   "source": [
    "df.info(\"Frans stokbrood\")"
   ]
  },
  {
   "cell_type": "markdown",
   "metadata": {},
   "source": [
    "First I had to convert the \"Date\" into \"NewDate\" to make it usable for analyses. This is easy with the built-in method to convert date to datetime in python. After that I checked with \".info\" to see if the NewDate Dtype indeed was converted to datetime. This is the case. "
   ]
  },
  {
   "cell_type": "code",
   "execution_count": 383,
   "metadata": {
    "scrolled": true
   },
   "outputs": [],
   "source": [
    "from datetime import date, datetime\n",
    "def season_of_date(NewDate):\n",
    "    year = str(NewDate.year)   \n",
    "    seasons = {'spring' : pd.date_range(start='20/03/'+year, end='20/06/'+year),\n",
    "               'summer' : pd.date_range(start='21/06/'+year, end='22/09/'+year),\n",
    "               'autumn' : pd.date_range(start='23/09/'+year, end='20/12/'+year)}\n",
    "    if NewDate in seasons['spring']:\n",
    "        return 0\n",
    "    if NewDate in seasons['summer']:\n",
    "        return 1\n",
    "    if NewDate in seasons['autumn']:\n",
    "        return 2\n",
    "    else:\n",
    "        return 3\n",
    "\n",
    "df['season'] = df.NewDate.map(season_of_date)"
   ]
  },
  {
   "cell_type": "code",
   "execution_count": 384,
   "metadata": {
    "scrolled": true
   },
   "outputs": [
    {
     "data": {
      "text/plain": [
       "1    94\n",
       "0    92\n",
       "2    89\n",
       "3    88\n",
       "Name: season, dtype: int64"
      ]
     },
     "execution_count": 384,
     "metadata": {},
     "output_type": "execute_result"
    }
   ],
   "source": [
    "df['season'].value_counts()"
   ]
  },
  {
   "cell_type": "markdown",
   "metadata": {},
   "source": [
    "Here I created a function to add \"season\" to the data set, but instead of returning summer, spring etc I used numbers otherwise the Dtype would give problems further down the road when making predictions or see if there is a correlation. "
   ]
  },
  {
   "cell_type": "code",
   "execution_count": 385,
   "metadata": {
    "scrolled": false
   },
   "outputs": [],
   "source": [
    "df['Weekday'] = df['NewDate'].dt.strftime(\"%w\")\n",
    "df['Weekday'] = pd.to_numeric(df['Weekday'])"
   ]
  },
  {
   "cell_type": "code",
   "execution_count": 386,
   "metadata": {
    "scrolled": true
   },
   "outputs": [
    {
     "name": "stdout",
     "output_type": "stream",
     "text": [
      "<class 'pandas.core.frame.DataFrame'>\n",
      "Int64Index: 363 entries, 0 to 362\n",
      "Data columns (total 120 columns):\n",
      " #   Column                               Dtype         \n",
      "---  ------                               -----         \n",
      " 0   Date                                 object        \n",
      " 1   Petit pain tarwe bake-off            float64       \n",
      " 2   Panini rustico meergr. bake-off      float64       \n",
      " 3   Rozijnenbroodje bake-off             float64       \n",
      " 4   Steenoven baguette wit bake-off      float64       \n",
      " 5   Steenoven baguette meerz. bake-off   float64       \n",
      " 6   Amandel croissant bake-off           int64         \n",
      " 7   Pecannotenbroodje bake-off           float64       \n",
      " 8   Tijgerbroodje bake-off               float64       \n",
      " 9   Frans stokbrood                      int64         \n",
      " 10  Baguette wit bake-off                float64       \n",
      " 11  Kaasbroodje goudse bake-off          int64         \n",
      " 12  Kaiserbroodje bake-off               int64         \n",
      " 13  Chocobroodje bake-off                float64       \n",
      " 14  Koffiebroodje bake-off               int64         \n",
      " 15  Focaccia mediterraans bake-off       float64       \n",
      " 16  Appelflap bake-off                   float64       \n",
      " 17  Croissant ham/kaas bake-off          float64       \n",
      " 18  Kaneelbroodje bake-off               float64       \n",
      " 19  Amandel roombroodje bake-off (T)     int64         \n",
      " 20  Schnittbroodje wit bake-off          float64       \n",
      " 21  Pompoenpitbroodje bake-off           float64       \n",
      " 22  Kampioentje bake-off                 int64         \n",
      " 23  Donut gesuikerd bake-off             float64       \n",
      " 24  Pretzel bake-off (T)                 float64       \n",
      " 25  Kaaspretzel                          int64         \n",
      " 26  Donut vanillevulling bake-off        float64       \n",
      " 27  Walnoten broodje bake-off            int64         \n",
      " 28  Donut Halloween bake-off             int64         \n",
      " 29  Berlinerbol bake-off                 int64         \n",
      " 30  Lente Donut bake off                 int64         \n",
      " 31  Speltbroodje bake-off (T)            float64       \n",
      " 32  Kaastwister bake-off (T)             float64       \n",
      " 33  Ciabatta bake-off (T)                int64         \n",
      " 34  Focaccia pizza                       int64         \n",
      " 35  Vijgenwalnootbrood bake-off          int64         \n",
      " 36  Bagel Bake-Off                       int64         \n",
      " 37  Pistolet rustiek bake-off            int64         \n",
      " 38  Roombotercroissant bake-off          float64       \n",
      " 39  Bosvruchtencrumble Bake-off          int64         \n",
      " 40  Donut gevuld blauwe bessen Bake-off  int64         \n",
      " 41  Mini calzone Margherita              int64         \n",
      " 42  Croissant kaas bake-off              int64         \n",
      " 43  Pastel de Nata bake-off (T)          float64       \n",
      " 44  Croissant meergranen bake-off        int64         \n",
      " 45  Donut gevuld caramel bake-off        int64         \n",
      " 46  Donut marshmallow                    int64         \n",
      " 47  Donut Toffee-fudge brownie bake off  int64         \n",
      " 48  Berlinerhart bake off                int64         \n",
      " 49  Pistolet volkoren bio bake-off       int64         \n",
      " 50  Bio baguette wit bake-off            int64         \n",
      " 51  Bio meergranen baguette bake-off     int64         \n",
      " 52  Bio batard meergranen bake-off       int64         \n",
      " 53  Milka muffins                        int64         \n",
      " 54  Hotdog BBQ bake-off                  int64         \n",
      " 55  Batard meergranen bio bake-off       int64         \n",
      " 56  Speculaas croissant (bake-off)       int64         \n",
      " 57  Donut karamel zeezout bake off       int64         \n",
      " 58  Ham-kaashoorntje                     int64         \n",
      " 59  Chocolade donut XXL                  int64         \n",
      " 60  Mini donuts kaneel suiker 9stuks     int64         \n",
      " 61  Choco donuts bake-off                int64         \n",
      " 62  Party donuts 4 stuks in blister      int64         \n",
      " 63  Witte pistolet bake-off              int64         \n",
      " 64  Kaasbroodje vierkant                 int64         \n",
      " 65  Kerstdonut                           int64         \n",
      " 66  Madeleine hazelnoot/chocolade        int64         \n",
      " 67  Spaanse Ensaimada                    int64         \n",
      " 68  Chocolade donut bake-off (T)         float64       \n",
      " 69  Croissant briochedeeg bake off       int64         \n",
      " 70  Croissant met abrikozenvulling       int64         \n",
      " 71  Croissant met bakkersroom vulling    int64         \n",
      " 72  Spinazie snack bake-off              int64         \n",
      " 73  Borek, gevulde deeg bladen           int64         \n",
      " 74  Kaas snack Bake-off                  int64         \n",
      " 75  Borek spinazie en kaas               int64         \n",
      " 76  Gevulde koek bake-off                float64       \n",
      " 77  Batard rustiek wit bake-off          float64       \n",
      " 78  Batard meergranen bake-off           int64         \n",
      " 79  Speculaas gevulde koek bake-off      int64         \n",
      " 80  Chocolate Cookie bake-off            int64         \n",
      " 81  Cookie double choc. bake off         int64         \n",
      " 82  Oliebol Bake-Off                     float64       \n",
      " 83  Appelbeignets mini Bake-off          int64         \n",
      " 84  Appeltaartjes mini bake-off          float64       \n",
      " 85  Batard meergranen bio bake-off.1     int64         \n",
      " 86  Bio pistolet volkoren bake-off       int64         \n",
      " 87  Pistolet meergranen bio bake-off     int64         \n",
      " 88  Baguette wit bio bake-off            int64         \n",
      " 89  Baguette meergranen bio bake-off     int64         \n",
      " 90  Pide Bake-Off                        int64         \n",
      " 91  Saucijzenbroodje bake-off            float64       \n",
      " 92  Frikandelbroodje Bake-Off            int64         \n",
      " 93  Kaasbroodje bake-off                 float64       \n",
      " 94  Cookie lente Bake-Off                int64         \n",
      " 95  Appeltaart groot bake-off            int64         \n",
      " 96  Batard kerstbrood bake-off           int64         \n",
      " 97  Vlaaitje gele room                   int64         \n",
      " 98  Tijger wit bake-off                  int64         \n",
      " 99  Tijger bruin bake-off                int64         \n",
      " 100 Meergranenbrood bake-off             int64         \n",
      " 101 Boeren zonnebl.pit.br. bake-off      int64         \n",
      " 102 Volkoren brood bake-off              int64         \n",
      " 103 Cookie macadamia bake-off            int64         \n",
      " 104 Rookworst broodje bake-off           int64         \n",
      " 105 Gehaktbal broodje curry Bake-off     int64         \n",
      " 106 Red velvet cookie bake-off           int64         \n",
      " 107 Mini stoofperentaart bake-off        int64         \n",
      " 108 Mini speculaastaartje bake-off       int64         \n",
      " 109 Bake-off Speculaas banket staafjes   int64         \n",
      " 110 Bake-off mini stolletje              int64         \n",
      " 111 Suikerwafel bake-off                 int64         \n",
      " 112 Simit sesamring                      int64         \n",
      " 113 Total sales per day                  float64       \n",
      " 114 Temp 0.1 graden                      int64         \n",
      " 115 Sunshine dura                        int64         \n",
      " 116 Rainfall dura                        int64         \n",
      " 117 NewDate                              datetime64[ns]\n",
      " 118 season                               int64         \n",
      " 119 Weekday                              int64         \n",
      "dtypes: datetime64[ns](1), float64(30), int64(88), object(1)\n",
      "memory usage: 343.1+ KB\n"
     ]
    }
   ],
   "source": [
    "df.info('Weekday')"
   ]
  },
  {
   "cell_type": "markdown",
   "metadata": {},
   "source": [
    "To not only see if there is a correlation with the season I also created the variable \"Weekday\". Here is also use the datetime method but now to convert the dates to corresponding weekdays. "
   ]
  },
  {
   "cell_type": "code",
   "execution_count": 387,
   "metadata": {
    "scrolled": true
   },
   "outputs": [
    {
     "data": {
      "text/plain": [
       "Text(0.5, 0, 'Total sales per day')"
      ]
     },
     "execution_count": 387,
     "metadata": {},
     "output_type": "execute_result"
    },
    {
     "data": {
      "image/png": "[encoded data removed]",
      "text/plain": [
       "<Figure size 432x288 with 1 Axes>"
      ]
     },
     "metadata": {
      "needs_background": "light"
     },
     "output_type": "display_data"
    }
   ],
   "source": [
    "ax = sns.boxplot(x=Ndf[\"Total sales per day\"])\n",
    "ax.set_xlabel('Total sales per day')"
   ]
  },
  {
   "cell_type": "code",
   "execution_count": 339,
   "metadata": {
    "scrolled": true
   },
   "outputs": [
    {
     "data": {
      "text/html": [
       "<div>\n",
       "<style scoped>\n",
       "    .dataframe tbody tr th:only-of-type {\n",
       "        vertical-align: middle;\n",
       "    }\n",
       "\n",
       "    .dataframe tbody tr th {\n",
       "        vertical-align: top;\n",
       "    }\n",
       "\n",
       "    .dataframe thead th {\n",
       "        text-align: right;\n",
       "    }\n",
       "</style>\n",
       "<table border=\"1\" class=\"dataframe\">\n",
       "  <thead>\n",
       "    <tr style=\"text-align: right;\">\n",
       "      <th></th>\n",
       "      <th>Total sales per day</th>\n",
       "      <th>Temp 0.1 graden</th>\n",
       "      <th>Sunshine dura</th>\n",
       "      <th>Rainfall dura</th>\n",
       "      <th>NewDate</th>\n",
       "      <th>season</th>\n",
       "      <th>Weekday</th>\n",
       "    </tr>\n",
       "  </thead>\n",
       "  <tbody>\n",
       "    <tr>\n",
       "      <th>28</th>\n",
       "      <td>3363.0</td>\n",
       "      <td>77</td>\n",
       "      <td>54</td>\n",
       "      <td>0</td>\n",
       "      <td>2019-12-30</td>\n",
       "      <td>3</td>\n",
       "      <td>1</td>\n",
       "    </tr>\n",
       "    <tr>\n",
       "      <th>29</th>\n",
       "      <td>4863.0</td>\n",
       "      <td>82</td>\n",
       "      <td>42</td>\n",
       "      <td>6</td>\n",
       "      <td>2019-12-31</td>\n",
       "      <td>3</td>\n",
       "      <td>2</td>\n",
       "    </tr>\n",
       "    <tr>\n",
       "      <th>67</th>\n",
       "      <td>3447.0</td>\n",
       "      <td>106</td>\n",
       "      <td>9</td>\n",
       "      <td>21</td>\n",
       "      <td>2020-02-08</td>\n",
       "      <td>3</td>\n",
       "      <td>6</td>\n",
       "    </tr>\n",
       "    <tr>\n",
       "      <th>95</th>\n",
       "      <td>3137.0</td>\n",
       "      <td>108</td>\n",
       "      <td>67</td>\n",
       "      <td>0</td>\n",
       "      <td>2020-03-07</td>\n",
       "      <td>3</td>\n",
       "      <td>6</td>\n",
       "    </tr>\n",
       "    <tr>\n",
       "      <th>157</th>\n",
       "      <td>3155.0</td>\n",
       "      <td>251</td>\n",
       "      <td>137</td>\n",
       "      <td>0</td>\n",
       "      <td>2020-05-09</td>\n",
       "      <td>0</td>\n",
       "      <td>6</td>\n",
       "    </tr>\n",
       "  </tbody>\n",
       "</table>\n",
       "</div>"
      ],
      "text/plain": [
       "     Total sales per day  Temp 0.1 graden  Sunshine dura  Rainfall dura  \\\n",
       "28                3363.0               77             54              0   \n",
       "29                4863.0               82             42              6   \n",
       "67                3447.0              106              9             21   \n",
       "95                3137.0              108             67              0   \n",
       "157               3155.0              251            137              0   \n",
       "\n",
       "       NewDate  season  Weekday  \n",
       "28  2019-12-30       3        1  \n",
       "29  2019-12-31       3        2  \n",
       "67  2020-02-08       3        6  \n",
       "95  2020-03-07       3        6  \n",
       "157 2020-05-09       0        6  "
      ]
     },
     "execution_count": 339,
     "metadata": {},
     "output_type": "execute_result"
    }
   ],
   "source": [
    "Ndf[Ndf['Total sales per day'].between(3000, 5000)]"
   ]
  },
  {
   "cell_type": "markdown",
   "metadata": {},
   "source": [
    "Above you see the 4/5 outliers. The biggest outlier you see in the prediction and the boxplot is the one on new years eve. Now lets take a look if that has to do with the sales of deep fried doughnut balls.\n"
   ]
  },
  {
   "cell_type": "code",
   "execution_count": 340,
   "metadata": {},
   "outputs": [
    {
     "data": {
      "text/html": [
       "<div>\n",
       "<style scoped>\n",
       "    .dataframe tbody tr th:only-of-type {\n",
       "        vertical-align: middle;\n",
       "    }\n",
       "\n",
       "    .dataframe tbody tr th {\n",
       "        vertical-align: top;\n",
       "    }\n",
       "\n",
       "    .dataframe thead th {\n",
       "        text-align: right;\n",
       "    }\n",
       "</style>\n",
       "<table border=\"1\" class=\"dataframe\">\n",
       "  <thead>\n",
       "    <tr style=\"text-align: right;\">\n",
       "      <th></th>\n",
       "      <th>Total sales per day</th>\n",
       "      <th>Oliebol Bake-Off</th>\n",
       "      <th>NewDate</th>\n",
       "      <th>Roombotercroissant bake-off</th>\n",
       "    </tr>\n",
       "  </thead>\n",
       "  <tbody>\n",
       "    <tr>\n",
       "      <th>0</th>\n",
       "      <td>1538.0</td>\n",
       "      <td>0.0</td>\n",
       "      <td>2019-12-01</td>\n",
       "      <td>149.0</td>\n",
       "    </tr>\n",
       "    <tr>\n",
       "      <th>1</th>\n",
       "      <td>1263.0</td>\n",
       "      <td>0.0</td>\n",
       "      <td>2019-12-02</td>\n",
       "      <td>69.0</td>\n",
       "    </tr>\n",
       "    <tr>\n",
       "      <th>2</th>\n",
       "      <td>1265.0</td>\n",
       "      <td>0.0</td>\n",
       "      <td>2019-12-03</td>\n",
       "      <td>74.0</td>\n",
       "    </tr>\n",
       "    <tr>\n",
       "      <th>3</th>\n",
       "      <td>1509.0</td>\n",
       "      <td>0.0</td>\n",
       "      <td>2019-12-04</td>\n",
       "      <td>120.0</td>\n",
       "    </tr>\n",
       "    <tr>\n",
       "      <th>4</th>\n",
       "      <td>1748.0</td>\n",
       "      <td>0.0</td>\n",
       "      <td>2019-12-05</td>\n",
       "      <td>103.0</td>\n",
       "    </tr>\n",
       "    <tr>\n",
       "      <th>...</th>\n",
       "      <td>...</td>\n",
       "      <td>...</td>\n",
       "      <td>...</td>\n",
       "      <td>...</td>\n",
       "    </tr>\n",
       "    <tr>\n",
       "      <th>358</th>\n",
       "      <td>1498.0</td>\n",
       "      <td>0.0</td>\n",
       "      <td>2020-11-26</td>\n",
       "      <td>96.0</td>\n",
       "    </tr>\n",
       "    <tr>\n",
       "      <th>359</th>\n",
       "      <td>1776.0</td>\n",
       "      <td>0.0</td>\n",
       "      <td>2020-11-27</td>\n",
       "      <td>161.0</td>\n",
       "    </tr>\n",
       "    <tr>\n",
       "      <th>360</th>\n",
       "      <td>2189.0</td>\n",
       "      <td>0.0</td>\n",
       "      <td>2020-11-28</td>\n",
       "      <td>176.0</td>\n",
       "    </tr>\n",
       "    <tr>\n",
       "      <th>361</th>\n",
       "      <td>1162.0</td>\n",
       "      <td>0.0</td>\n",
       "      <td>2020-11-29</td>\n",
       "      <td>86.0</td>\n",
       "    </tr>\n",
       "    <tr>\n",
       "      <th>362</th>\n",
       "      <td>1035.0</td>\n",
       "      <td>0.0</td>\n",
       "      <td>2020-11-30</td>\n",
       "      <td>55.0</td>\n",
       "    </tr>\n",
       "  </tbody>\n",
       "</table>\n",
       "<p>363 rows × 4 columns</p>\n",
       "</div>"
      ],
      "text/plain": [
       "     Total sales per day  Oliebol Bake-Off    NewDate  \\\n",
       "0                 1538.0               0.0 2019-12-01   \n",
       "1                 1263.0               0.0 2019-12-02   \n",
       "2                 1265.0               0.0 2019-12-03   \n",
       "3                 1509.0               0.0 2019-12-04   \n",
       "4                 1748.0               0.0 2019-12-05   \n",
       "..                   ...               ...        ...   \n",
       "358               1498.0               0.0 2020-11-26   \n",
       "359               1776.0               0.0 2020-11-27   \n",
       "360               2189.0               0.0 2020-11-28   \n",
       "361               1162.0               0.0 2020-11-29   \n",
       "362               1035.0               0.0 2020-11-30   \n",
       "\n",
       "     Roombotercroissant bake-off  \n",
       "0                          149.0  \n",
       "1                           69.0  \n",
       "2                           74.0  \n",
       "3                          120.0  \n",
       "4                          103.0  \n",
       "..                           ...  \n",
       "358                         96.0  \n",
       "359                        161.0  \n",
       "360                        176.0  \n",
       "361                         86.0  \n",
       "362                         55.0  \n",
       "\n",
       "[363 rows x 4 columns]"
      ]
     },
     "execution_count": 340,
     "metadata": {},
     "output_type": "execute_result"
    }
   ],
   "source": [
    "Odf = df.loc[:, ['Total sales per day', 'Oliebol Bake-Off', 'NewDate', 'Roombotercroissant bake-off']]\n",
    "Odf"
   ]
  },
  {
   "cell_type": "code",
   "execution_count": 341,
   "metadata": {
    "scrolled": false
   },
   "outputs": [
    {
     "data": {
      "text/html": [
       "<div>\n",
       "<style scoped>\n",
       "    .dataframe tbody tr th:only-of-type {\n",
       "        vertical-align: middle;\n",
       "    }\n",
       "\n",
       "    .dataframe tbody tr th {\n",
       "        vertical-align: top;\n",
       "    }\n",
       "\n",
       "    .dataframe thead th {\n",
       "        text-align: right;\n",
       "    }\n",
       "</style>\n",
       "<table border=\"1\" class=\"dataframe\">\n",
       "  <thead>\n",
       "    <tr style=\"text-align: right;\">\n",
       "      <th></th>\n",
       "      <th>Total sales per day</th>\n",
       "      <th>Oliebol Bake-Off</th>\n",
       "      <th>NewDate</th>\n",
       "      <th>Roombotercroissant bake-off</th>\n",
       "    </tr>\n",
       "  </thead>\n",
       "  <tbody>\n",
       "    <tr>\n",
       "      <th>28</th>\n",
       "      <td>3363.0</td>\n",
       "      <td>1209.0</td>\n",
       "      <td>2019-12-30</td>\n",
       "      <td>190.0</td>\n",
       "    </tr>\n",
       "    <tr>\n",
       "      <th>29</th>\n",
       "      <td>4863.0</td>\n",
       "      <td>2755.0</td>\n",
       "      <td>2019-12-31</td>\n",
       "      <td>95.0</td>\n",
       "    </tr>\n",
       "  </tbody>\n",
       "</table>\n",
       "</div>"
      ],
      "text/plain": [
       "    Total sales per day  Oliebol Bake-Off    NewDate  \\\n",
       "28               3363.0            1209.0 2019-12-30   \n",
       "29               4863.0            2755.0 2019-12-31   \n",
       "\n",
       "    Roombotercroissant bake-off  \n",
       "28                        190.0  \n",
       "29                         95.0  "
      ]
     },
     "execution_count": 341,
     "metadata": {},
     "output_type": "execute_result"
    }
   ],
   "source": [
    "Odf[Odf['Oliebol Bake-Off'].between(1000, 3000)]"
   ]
  },
  {
   "cell_type": "code",
   "execution_count": 342,
   "metadata": {
    "scrolled": true
   },
   "outputs": [
    {
     "data": {
      "text/html": [
       "<div>\n",
       "<style scoped>\n",
       "    .dataframe tbody tr th:only-of-type {\n",
       "        vertical-align: middle;\n",
       "    }\n",
       "\n",
       "    .dataframe tbody tr th {\n",
       "        vertical-align: top;\n",
       "    }\n",
       "\n",
       "    .dataframe thead th {\n",
       "        text-align: right;\n",
       "    }\n",
       "</style>\n",
       "<table border=\"1\" class=\"dataframe\">\n",
       "  <thead>\n",
       "    <tr style=\"text-align: right;\">\n",
       "      <th></th>\n",
       "      <th>Total sales per day</th>\n",
       "      <th>Oliebol Bake-Off</th>\n",
       "      <th>NewDate</th>\n",
       "      <th>Roombotercroissant bake-off</th>\n",
       "    </tr>\n",
       "  </thead>\n",
       "  <tbody>\n",
       "    <tr>\n",
       "      <th>67</th>\n",
       "      <td>3447.0</td>\n",
       "      <td>0.0</td>\n",
       "      <td>2020-02-08</td>\n",
       "      <td>963.0</td>\n",
       "    </tr>\n",
       "    <tr>\n",
       "      <th>156</th>\n",
       "      <td>2867.0</td>\n",
       "      <td>0.0</td>\n",
       "      <td>2020-05-08</td>\n",
       "      <td>939.0</td>\n",
       "    </tr>\n",
       "    <tr>\n",
       "      <th>157</th>\n",
       "      <td>3155.0</td>\n",
       "      <td>0.0</td>\n",
       "      <td>2020-05-09</td>\n",
       "      <td>841.0</td>\n",
       "    </tr>\n",
       "  </tbody>\n",
       "</table>\n",
       "</div>"
      ],
      "text/plain": [
       "     Total sales per day  Oliebol Bake-Off    NewDate  \\\n",
       "67                3447.0               0.0 2020-02-08   \n",
       "156               2867.0               0.0 2020-05-08   \n",
       "157               3155.0               0.0 2020-05-09   \n",
       "\n",
       "     Roombotercroissant bake-off  \n",
       "67                         963.0  \n",
       "156                        939.0  \n",
       "157                        841.0  "
      ]
     },
     "execution_count": 342,
     "metadata": {},
     "output_type": "execute_result"
    }
   ],
   "source": [
    "Odf[Odf['Roombotercroissant bake-off'].between(800, 1000)]"
   ]
  },
  {
   "cell_type": "markdown",
   "metadata": {},
   "source": [
    "Indeed the deep fried doughnut balls are the reason for this outlier since 56,7% of the \"Total sales per day\" on 31-12-2019 is deep fried doughnut balls. This is expected since THE pastry to eat on this holiday. \n",
    "The other outlier on the 8th of february was mainly because of the \"Roomboter croissant Bake-off\". This can be explained to the the fact that in this week there was a promotion of 5 croissant for €1,-.\n",
    "\n",
    "Lets clean this data by taking out all value above 3000. "
   ]
  },
  {
   "cell_type": "code",
   "execution_count": 343,
   "metadata": {},
   "outputs": [],
   "source": [
    "Ndf['Total sales per day'] = df['Total sales per day'].apply(pd.to_numeric, errors='coerce')\n",
    "\n",
    "def above_3000(x):\n",
    "    if(x > 3000): \n",
    "        return float('NaN')\n",
    "    else: \n",
    "        return x\n",
    "df['Total sales per day'] = df['Total sales per day'].apply(above_3000)\n"
   ]
  },
  {
   "cell_type": "code",
   "execution_count": 344,
   "metadata": {
    "scrolled": true
   },
   "outputs": [
    {
     "data": {
      "image/png": "[encoded data removed]",
      "text/plain": [
       "<Figure size 432x288 with 1 Axes>"
      ]
     },
     "metadata": {
      "needs_background": "light"
     },
     "output_type": "display_data"
    }
   ],
   "source": [
    "sns.distplot(df['Total sales per day'].dropna(), kde=False) #Selecting the rating column. I need to drop the NA's for the plot\n",
    "plt.title('Rating of Google Play apps')\n",
    "plt.xlabel('Rating (stars)')\n",
    "plt.show()"
   ]
  },
  {
   "cell_type": "code",
   "execution_count": 360,
   "metadata": {},
   "outputs": [],
   "source": [
    "df[df==np.inf]=np.nan\n",
    "df.fillna(df.mean(), inplace=True)"
   ]
  },
  {
   "cell_type": "markdown",
   "metadata": {},
   "source": [
    "# Plotting Temperature + Total sales per day"
   ]
  },
  {
   "cell_type": "markdown",
   "metadata": {},
   "source": [
    "In this chapter I will take a look at the correlation between the weather and the \"Total sales per day\". "
   ]
  },
  {
   "cell_type": "code",
   "execution_count": 361,
   "metadata": {
    "scrolled": true
   },
   "outputs": [
    {
     "data": {
      "text/html": [
       "<div>\n",
       "<style scoped>\n",
       "    .dataframe tbody tr th:only-of-type {\n",
       "        vertical-align: middle;\n",
       "    }\n",
       "\n",
       "    .dataframe tbody tr th {\n",
       "        vertical-align: top;\n",
       "    }\n",
       "\n",
       "    .dataframe thead th {\n",
       "        text-align: right;\n",
       "    }\n",
       "</style>\n",
       "<table border=\"1\" class=\"dataframe\">\n",
       "  <thead>\n",
       "    <tr style=\"text-align: right;\">\n",
       "      <th></th>\n",
       "      <th>Total sales per day</th>\n",
       "      <th>Temp 0.1 graden</th>\n",
       "      <th>Sunshine dura</th>\n",
       "      <th>Rainfall dura</th>\n",
       "      <th>NewDate</th>\n",
       "      <th>season</th>\n",
       "      <th>Weekday</th>\n",
       "    </tr>\n",
       "  </thead>\n",
       "  <tbody>\n",
       "    <tr>\n",
       "      <th>0</th>\n",
       "      <td>1538.0</td>\n",
       "      <td>24</td>\n",
       "      <td>24</td>\n",
       "      <td>0</td>\n",
       "      <td>2019-12-01</td>\n",
       "      <td>2</td>\n",
       "      <td>0</td>\n",
       "    </tr>\n",
       "    <tr>\n",
       "      <th>1</th>\n",
       "      <td>1263.0</td>\n",
       "      <td>79</td>\n",
       "      <td>50</td>\n",
       "      <td>12</td>\n",
       "      <td>2019-12-02</td>\n",
       "      <td>2</td>\n",
       "      <td>1</td>\n",
       "    </tr>\n",
       "    <tr>\n",
       "      <th>2</th>\n",
       "      <td>1265.0</td>\n",
       "      <td>74</td>\n",
       "      <td>68</td>\n",
       "      <td>0</td>\n",
       "      <td>2019-12-03</td>\n",
       "      <td>2</td>\n",
       "      <td>2</td>\n",
       "    </tr>\n",
       "    <tr>\n",
       "      <th>3</th>\n",
       "      <td>1509.0</td>\n",
       "      <td>62</td>\n",
       "      <td>68</td>\n",
       "      <td>0</td>\n",
       "      <td>2019-12-04</td>\n",
       "      <td>2</td>\n",
       "      <td>3</td>\n",
       "    </tr>\n",
       "    <tr>\n",
       "      <th>4</th>\n",
       "      <td>1748.0</td>\n",
       "      <td>37</td>\n",
       "      <td>0</td>\n",
       "      <td>0</td>\n",
       "      <td>2019-12-05</td>\n",
       "      <td>2</td>\n",
       "      <td>4</td>\n",
       "    </tr>\n",
       "    <tr>\n",
       "      <th>...</th>\n",
       "      <td>...</td>\n",
       "      <td>...</td>\n",
       "      <td>...</td>\n",
       "      <td>...</td>\n",
       "      <td>...</td>\n",
       "      <td>...</td>\n",
       "      <td>...</td>\n",
       "    </tr>\n",
       "    <tr>\n",
       "      <th>358</th>\n",
       "      <td>1498.0</td>\n",
       "      <td>92</td>\n",
       "      <td>0</td>\n",
       "      <td>65</td>\n",
       "      <td>2020-11-26</td>\n",
       "      <td>2</td>\n",
       "      <td>4</td>\n",
       "    </tr>\n",
       "    <tr>\n",
       "      <th>359</th>\n",
       "      <td>1776.0</td>\n",
       "      <td>75</td>\n",
       "      <td>10</td>\n",
       "      <td>47</td>\n",
       "      <td>2020-11-27</td>\n",
       "      <td>2</td>\n",
       "      <td>5</td>\n",
       "    </tr>\n",
       "    <tr>\n",
       "      <th>360</th>\n",
       "      <td>2189.0</td>\n",
       "      <td>40</td>\n",
       "      <td>0</td>\n",
       "      <td>0</td>\n",
       "      <td>2020-11-28</td>\n",
       "      <td>2</td>\n",
       "      <td>6</td>\n",
       "    </tr>\n",
       "    <tr>\n",
       "      <th>361</th>\n",
       "      <td>1162.0</td>\n",
       "      <td>35</td>\n",
       "      <td>53</td>\n",
       "      <td>0</td>\n",
       "      <td>2020-11-29</td>\n",
       "      <td>2</td>\n",
       "      <td>0</td>\n",
       "    </tr>\n",
       "    <tr>\n",
       "      <th>362</th>\n",
       "      <td>1035.0</td>\n",
       "      <td>64</td>\n",
       "      <td>0</td>\n",
       "      <td>83</td>\n",
       "      <td>2020-11-30</td>\n",
       "      <td>2</td>\n",
       "      <td>1</td>\n",
       "    </tr>\n",
       "  </tbody>\n",
       "</table>\n",
       "<p>363 rows × 7 columns</p>\n",
       "</div>"
      ],
      "text/plain": [
       "     Total sales per day  Temp 0.1 graden  Sunshine dura  Rainfall dura  \\\n",
       "0                 1538.0               24             24              0   \n",
       "1                 1263.0               79             50             12   \n",
       "2                 1265.0               74             68              0   \n",
       "3                 1509.0               62             68              0   \n",
       "4                 1748.0               37              0              0   \n",
       "..                   ...              ...            ...            ...   \n",
       "358               1498.0               92              0             65   \n",
       "359               1776.0               75             10             47   \n",
       "360               2189.0               40              0              0   \n",
       "361               1162.0               35             53              0   \n",
       "362               1035.0               64              0             83   \n",
       "\n",
       "       NewDate  season  Weekday  \n",
       "0   2019-12-01       2        0  \n",
       "1   2019-12-02       2        1  \n",
       "2   2019-12-03       2        2  \n",
       "3   2019-12-04       2        3  \n",
       "4   2019-12-05       2        4  \n",
       "..         ...     ...      ...  \n",
       "358 2020-11-26       2        4  \n",
       "359 2020-11-27       2        5  \n",
       "360 2020-11-28       2        6  \n",
       "361 2020-11-29       2        0  \n",
       "362 2020-11-30       2        1  \n",
       "\n",
       "[363 rows x 7 columns]"
      ]
     },
     "execution_count": 361,
     "metadata": {},
     "output_type": "execute_result"
    }
   ],
   "source": [
    "Ndf = df.loc[:, ['Total sales per day', 'Temp 0.1 graden', 'Sunshine dura', 'Rainfall dura', 'NewDate', 'season', 'Weekday']]\n",
    "Ndf\n"
   ]
  },
  {
   "cell_type": "markdown",
   "metadata": {},
   "source": [
    "Above I used the loc method to directly select variable and putting them together in a new dataframe called \"Ndf\""
   ]
  },
  {
   "cell_type": "code",
   "execution_count": 362,
   "metadata": {
    "scrolled": false
   },
   "outputs": [
    {
     "data": {
      "image/png": "[encoded data removed]",
      "text/plain": [
       "<Figure size 1080x1080 with 42 Axes>"
      ]
     },
     "metadata": {
      "needs_background": "light"
     },
     "output_type": "display_data"
    }
   ],
   "source": [
    "sns.pairplot(Ndf)\n",
    "plt.show()"
   ]
  },
  {
   "cell_type": "markdown",
   "metadata": {},
   "source": [
    "The scatterplot shows that the weather does not strongly correlate. The dots are not that close.\n",
    "The qualitative variables show a less clear picture. With a correlation matrix this could get more clear."
   ]
  },
  {
   "cell_type": "code",
   "execution_count": 363,
   "metadata": {
    "scrolled": true
   },
   "outputs": [
    {
     "data": {
      "text/html": [
       "<div>\n",
       "<style scoped>\n",
       "    .dataframe tbody tr th:only-of-type {\n",
       "        vertical-align: middle;\n",
       "    }\n",
       "\n",
       "    .dataframe tbody tr th {\n",
       "        vertical-align: top;\n",
       "    }\n",
       "\n",
       "    .dataframe thead th {\n",
       "        text-align: right;\n",
       "    }\n",
       "</style>\n",
       "<table border=\"1\" class=\"dataframe\">\n",
       "  <thead>\n",
       "    <tr style=\"text-align: right;\">\n",
       "      <th></th>\n",
       "      <th>Total sales per day</th>\n",
       "      <th>Temp 0.1 graden</th>\n",
       "      <th>Sunshine dura</th>\n",
       "      <th>Rainfall dura</th>\n",
       "    </tr>\n",
       "  </thead>\n",
       "  <tbody>\n",
       "    <tr>\n",
       "      <th>Total sales per day</th>\n",
       "      <td>1.000000</td>\n",
       "      <td>-0.079221</td>\n",
       "      <td>-0.101567</td>\n",
       "      <td>0.099065</td>\n",
       "    </tr>\n",
       "    <tr>\n",
       "      <th>Temp 0.1 graden</th>\n",
       "      <td>-0.079221</td>\n",
       "      <td>1.000000</td>\n",
       "      <td>0.568389</td>\n",
       "      <td>-0.232412</td>\n",
       "    </tr>\n",
       "    <tr>\n",
       "      <th>Sunshine dura</th>\n",
       "      <td>-0.101567</td>\n",
       "      <td>0.568389</td>\n",
       "      <td>1.000000</td>\n",
       "      <td>-0.501394</td>\n",
       "    </tr>\n",
       "    <tr>\n",
       "      <th>Rainfall dura</th>\n",
       "      <td>0.099065</td>\n",
       "      <td>-0.232412</td>\n",
       "      <td>-0.501394</td>\n",
       "      <td>1.000000</td>\n",
       "    </tr>\n",
       "  </tbody>\n",
       "</table>\n",
       "</div>"
      ],
      "text/plain": [
       "                     Total sales per day  Temp 0.1 graden  Sunshine dura  \\\n",
       "Total sales per day             1.000000        -0.079221      -0.101567   \n",
       "Temp 0.1 graden                -0.079221         1.000000       0.568389   \n",
       "Sunshine dura                  -0.101567         0.568389       1.000000   \n",
       "Rainfall dura                   0.099065        -0.232412      -0.501394   \n",
       "\n",
       "                     Rainfall dura  \n",
       "Total sales per day       0.099065  \n",
       "Temp 0.1 graden          -0.232412  \n",
       "Sunshine dura            -0.501394  \n",
       "Rainfall dura             1.000000  "
      ]
     },
     "execution_count": 363,
     "metadata": {},
     "output_type": "execute_result"
    }
   ],
   "source": [
    "corr = Ndf[['Total sales per day', 'Temp 0.1 graden', 'Sunshine dura', 'Rainfall dura']].corr() \n",
    "corr"
   ]
  },
  {
   "cell_type": "code",
   "execution_count": 364,
   "metadata": {
    "scrolled": false
   },
   "outputs": [
    {
     "data": {
      "image/png": "[encoded data removed]",
      "text/plain": [
       "<Figure size 432x288 with 2 Axes>"
      ]
     },
     "metadata": {
      "needs_background": "light"
     },
     "output_type": "display_data"
    }
   ],
   "source": [
    "sns.heatmap(corr, xticklabels=corr.columns, yticklabels=corr.columns)\n",
    "plt.show()"
   ]
  },
  {
   "cell_type": "markdown",
   "metadata": {},
   "source": [
    "The correlations with Total sales per day are strongest with Weekday and season. It is interesting to that the \"Total sales per day\" and the \"Temp 0.1 graden\" + \"Sunshine dura\" have a negative correlation. Which means that when the temperature and sunshine duration increases the sales decrease. Whereas when the rainfall increases the sales also increase. However, the correlation is there but to close to 0.0 that it is basically not correlated. \n",
    "The output of scatterplot, the correlation matrix and heatmap clearly show that there is no significant correlation between the total sales per day and the weather (rainfall, sunshine and temperature). It does show that the weather variables are correlated with eachother. However this is not relevant for this research. "
   ]
  },
  {
   "cell_type": "markdown",
   "metadata": {},
   "source": [
    "# Linear regression Temperature + Total sales per day "
   ]
  },
  {
   "cell_type": "code",
   "execution_count": 365,
   "metadata": {
    "scrolled": false
   },
   "outputs": [
    {
     "data": {
      "image/png": "[encoded data removed]",
      "text/plain": [
       "<Figure size 360x360 with 1 Axes>"
      ]
     },
     "metadata": {
      "needs_background": "light"
     },
     "output_type": "display_data"
    }
   ],
   "source": [
    "sns.lmplot(x='Temp 0.1 graden', y='Total sales per day', fit_reg=False, data=Ndf)\n",
    "plt.title('Total sales per day and the duration of sunshine')\n",
    "plt.xlabel(\"Temperature\")\n",
    "plt.ylabel(\"Total sales per day\")\n",
    "plt.show()"
   ]
  },
  {
   "cell_type": "markdown",
   "metadata": {},
   "source": [
    "1. As suspected there is no real linear pattern. You can not draw a straight line to fit the points.\n",
    "2. There is a lot of variation around the imaginable line, under the line as well as above this line. \n",
    "3. The higher the temperature the lower the sales. There is a negative correlation."
   ]
  },
  {
   "cell_type": "code",
   "execution_count": 366,
   "metadata": {
    "scrolled": false
   },
   "outputs": [
    {
     "data": {
      "image/png": "[encoded data removed]",
      "text/plain": [
       "<Figure size 360x360 with 1 Axes>"
      ]
     },
     "metadata": {
      "needs_background": "light"
     },
     "output_type": "display_data"
    }
   ],
   "source": [
    "sns.lmplot(x='Temp 0.1 graden', y='Total sales per day', data=Ndf, ci=False) \n",
    "plt.title('Lidl total sales per day and the temperature')\n",
    "plt.xlabel('Temperature')\n",
    "plt.ylabel('Total sales per day')\n",
    "plt.show()"
   ]
  },
  {
   "cell_type": "markdown",
   "metadata": {},
   "source": [
    "This is a very weird line. This could be because the correlation is not significant or strong enough. "
   ]
  },
  {
   "cell_type": "code",
   "execution_count": 367,
   "metadata": {},
   "outputs": [
    {
     "ename": "TypeError",
     "evalue": "unsupported format string passed to numpy.ndarray.__format__",
     "output_type": "error",
     "traceback": [
      "\u001b[0;31m---------------------------------------------------------------------------\u001b[0m",
      "\u001b[0;31mTypeError\u001b[0m                                 Traceback (most recent call last)",
      "\u001b[0;32m<ipython-input-367-53528ad15396>\u001b[0m in \u001b[0;36m<module>\u001b[0;34m\u001b[0m\n\u001b[1;32m      9\u001b[0m \u001b[0mb1\u001b[0m \u001b[0;34m=\u001b[0m \u001b[0mlm\u001b[0m\u001b[0;34m.\u001b[0m\u001b[0mcoef_\u001b[0m\u001b[0;34m[\u001b[0m\u001b[0;36m0\u001b[0m\u001b[0;34m]\u001b[0m\u001b[0;34m\u001b[0m\u001b[0;34m\u001b[0m\u001b[0m\n\u001b[1;32m     10\u001b[0m \u001b[0;34m\u001b[0m\u001b[0m\n\u001b[0;32m---> 11\u001b[0;31m \u001b[0mprint\u001b[0m\u001b[0;34m(\u001b[0m\u001b[0;34mf\"The regression line is equal to y = {b0:.3f} + {b1:.3f}X\"\u001b[0m\u001b[0;34m)\u001b[0m\u001b[0;34m\u001b[0m\u001b[0;34m\u001b[0m\u001b[0m\n\u001b[0m",
      "\u001b[0;31mTypeError\u001b[0m: unsupported format string passed to numpy.ndarray.__format__"
     ]
    }
   ],
   "source": [
    "from sklearn.linear_model import LinearRegression\n",
    "\n",
    "x = Ndf[['Temp 0.1 graden']] \n",
    "y = Ndf[['Total sales per day']] \n",
    "lm = LinearRegression() \n",
    "lm.fit(x, y) \n",
    "\n",
    "b0 = lm.intercept_\n",
    "b1 = lm.coef_[0]\n",
    "\n",
    "print(f\"The regression line is equal to y = {b0:.3f} + {b1:.3f}X\")"
   ]
  },
  {
   "cell_type": "code",
   "execution_count": 244,
   "metadata": {
    "scrolled": true
   },
   "outputs": [
    {
     "data": {
      "text/html": [
       "<div>\n",
       "<style scoped>\n",
       "    .dataframe tbody tr th:only-of-type {\n",
       "        vertical-align: middle;\n",
       "    }\n",
       "\n",
       "    .dataframe tbody tr th {\n",
       "        vertical-align: top;\n",
       "    }\n",
       "\n",
       "    .dataframe thead th {\n",
       "        text-align: right;\n",
       "    }\n",
       "</style>\n",
       "<table border=\"1\" class=\"dataframe\">\n",
       "  <thead>\n",
       "    <tr style=\"text-align: right;\">\n",
       "      <th></th>\n",
       "      <th>Total sales per day</th>\n",
       "      <th>Temp 0.1 graden</th>\n",
       "      <th>Sunshine dura</th>\n",
       "      <th>Rainfall dura</th>\n",
       "      <th>NewDate</th>\n",
       "      <th>season</th>\n",
       "      <th>Weekday</th>\n",
       "      <th>n_sales</th>\n",
       "      <th>Total sales per day_p</th>\n",
       "    </tr>\n",
       "  </thead>\n",
       "  <tbody>\n",
       "    <tr>\n",
       "      <th>0</th>\n",
       "      <td>1538.0</td>\n",
       "      <td>24</td>\n",
       "      <td>24</td>\n",
       "      <td>0</td>\n",
       "      <td>2019-12-01</td>\n",
       "      <td>2</td>\n",
       "      <td>0</td>\n",
       "      <td>153.8</td>\n",
       "      <td>173.331302</td>\n",
       "    </tr>\n",
       "    <tr>\n",
       "      <th>1</th>\n",
       "      <td>1263.0</td>\n",
       "      <td>79</td>\n",
       "      <td>50</td>\n",
       "      <td>12</td>\n",
       "      <td>2019-12-02</td>\n",
       "      <td>2</td>\n",
       "      <td>1</td>\n",
       "      <td>126.3</td>\n",
       "      <td>169.053529</td>\n",
       "    </tr>\n",
       "    <tr>\n",
       "      <th>2</th>\n",
       "      <td>1265.0</td>\n",
       "      <td>74</td>\n",
       "      <td>68</td>\n",
       "      <td>0</td>\n",
       "      <td>2019-12-03</td>\n",
       "      <td>2</td>\n",
       "      <td>2</td>\n",
       "      <td>126.5</td>\n",
       "      <td>169.442417</td>\n",
       "    </tr>\n",
       "    <tr>\n",
       "      <th>3</th>\n",
       "      <td>1509.0</td>\n",
       "      <td>62</td>\n",
       "      <td>68</td>\n",
       "      <td>0</td>\n",
       "      <td>2019-12-04</td>\n",
       "      <td>2</td>\n",
       "      <td>3</td>\n",
       "      <td>150.9</td>\n",
       "      <td>170.375750</td>\n",
       "    </tr>\n",
       "    <tr>\n",
       "      <th>4</th>\n",
       "      <td>1748.0</td>\n",
       "      <td>37</td>\n",
       "      <td>0</td>\n",
       "      <td>0</td>\n",
       "      <td>2019-12-05</td>\n",
       "      <td>2</td>\n",
       "      <td>4</td>\n",
       "      <td>174.8</td>\n",
       "      <td>172.320192</td>\n",
       "    </tr>\n",
       "    <tr>\n",
       "      <th>5</th>\n",
       "      <td>2306.0</td>\n",
       "      <td>88</td>\n",
       "      <td>0</td>\n",
       "      <td>172</td>\n",
       "      <td>2019-12-06</td>\n",
       "      <td>2</td>\n",
       "      <td>5</td>\n",
       "      <td>230.6</td>\n",
       "      <td>168.353530</td>\n",
       "    </tr>\n",
       "    <tr>\n",
       "      <th>6</th>\n",
       "      <td>2531.0</td>\n",
       "      <td>92</td>\n",
       "      <td>2</td>\n",
       "      <td>21</td>\n",
       "      <td>2019-12-07</td>\n",
       "      <td>2</td>\n",
       "      <td>6</td>\n",
       "      <td>253.1</td>\n",
       "      <td>168.042419</td>\n",
       "    </tr>\n",
       "    <tr>\n",
       "      <th>7</th>\n",
       "      <td>1456.0</td>\n",
       "      <td>106</td>\n",
       "      <td>7</td>\n",
       "      <td>42</td>\n",
       "      <td>2019-12-08</td>\n",
       "      <td>2</td>\n",
       "      <td>0</td>\n",
       "      <td>145.6</td>\n",
       "      <td>166.953531</td>\n",
       "    </tr>\n",
       "    <tr>\n",
       "      <th>8</th>\n",
       "      <td>1394.0</td>\n",
       "      <td>80</td>\n",
       "      <td>23</td>\n",
       "      <td>39</td>\n",
       "      <td>2019-12-09</td>\n",
       "      <td>2</td>\n",
       "      <td>1</td>\n",
       "      <td>139.4</td>\n",
       "      <td>168.975751</td>\n",
       "    </tr>\n",
       "    <tr>\n",
       "      <th>9</th>\n",
       "      <td>1247.0</td>\n",
       "      <td>69</td>\n",
       "      <td>49</td>\n",
       "      <td>0</td>\n",
       "      <td>2019-12-10</td>\n",
       "      <td>2</td>\n",
       "      <td>2</td>\n",
       "      <td>124.7</td>\n",
       "      <td>169.831306</td>\n",
       "    </tr>\n",
       "  </tbody>\n",
       "</table>\n",
       "</div>"
      ],
      "text/plain": [
       "   Total sales per day  Temp 0.1 graden  Sunshine dura  Rainfall dura  \\\n",
       "0               1538.0               24             24              0   \n",
       "1               1263.0               79             50             12   \n",
       "2               1265.0               74             68              0   \n",
       "3               1509.0               62             68              0   \n",
       "4               1748.0               37              0              0   \n",
       "5               2306.0               88              0            172   \n",
       "6               2531.0               92              2             21   \n",
       "7               1456.0              106              7             42   \n",
       "8               1394.0               80             23             39   \n",
       "9               1247.0               69             49              0   \n",
       "\n",
       "     NewDate  season  Weekday  n_sales  Total sales per day_p  \n",
       "0 2019-12-01       2        0    153.8             173.331302  \n",
       "1 2019-12-02       2        1    126.3             169.053529  \n",
       "2 2019-12-03       2        2    126.5             169.442417  \n",
       "3 2019-12-04       2        3    150.9             170.375750  \n",
       "4 2019-12-05       2        4    174.8             172.320192  \n",
       "5 2019-12-06       2        5    230.6             168.353530  \n",
       "6 2019-12-07       2        6    253.1             168.042419  \n",
       "7 2019-12-08       2        0    145.6             166.953531  \n",
       "8 2019-12-09       2        1    139.4             168.975751  \n",
       "9 2019-12-10       2        2    124.7             169.831306  "
      ]
     },
     "execution_count": 244,
     "metadata": {},
     "output_type": "execute_result"
    }
   ],
   "source": [
    "Ndf['Total sales per day_p'] = lm.predict(x) #use built-in predict() method to generate predictions; store in original dataframe\n",
    "Ndf.head(10)"
   ]
  },
  {
   "cell_type": "code",
   "execution_count": 247,
   "metadata": {
    "scrolled": true
   },
   "outputs": [
    {
     "data": {
      "text/plain": [
       "0.010307094811877637"
      ]
     },
     "execution_count": 247,
     "metadata": {},
     "output_type": "execute_result"
    }
   ],
   "source": [
    "r2_score(Ndf['n_sales'], Ndf['Total sales per day_p'])"
   ]
  },
  {
   "cell_type": "code",
   "execution_count": 248,
   "metadata": {},
   "outputs": [
    {
     "data": {
      "text/plain": [
       "55.10024154241195"
      ]
     },
     "execution_count": 248,
     "metadata": {},
     "output_type": "execute_result"
    }
   ],
   "source": [
    "math.sqrt(mean_squared_error(Ndf['n_sales'], Ndf['Total sales per day_p'])) "
   ]
  },
  {
   "cell_type": "code",
   "execution_count": 249,
   "metadata": {
    "scrolled": true
   },
   "outputs": [
    {
     "data": {
      "text/html": [
       "<div>\n",
       "<style scoped>\n",
       "    .dataframe tbody tr th:only-of-type {\n",
       "        vertical-align: middle;\n",
       "    }\n",
       "\n",
       "    .dataframe tbody tr th {\n",
       "        vertical-align: top;\n",
       "    }\n",
       "\n",
       "    .dataframe thead th {\n",
       "        text-align: right;\n",
       "    }\n",
       "</style>\n",
       "<table border=\"1\" class=\"dataframe\">\n",
       "  <thead>\n",
       "    <tr style=\"text-align: right;\">\n",
       "      <th></th>\n",
       "      <th>Total sales per day</th>\n",
       "      <th>Temp 0.1 graden</th>\n",
       "      <th>Sunshine dura</th>\n",
       "      <th>Rainfall dura</th>\n",
       "      <th>NewDate</th>\n",
       "      <th>season</th>\n",
       "      <th>Weekday</th>\n",
       "      <th>n_sales</th>\n",
       "      <th>Total sales per day_p</th>\n",
       "    </tr>\n",
       "  </thead>\n",
       "  <tbody>\n",
       "    <tr>\n",
       "      <th>0</th>\n",
       "      <td>1538.0</td>\n",
       "      <td>24</td>\n",
       "      <td>24</td>\n",
       "      <td>0</td>\n",
       "      <td>2019-12-01</td>\n",
       "      <td>2</td>\n",
       "      <td>0</td>\n",
       "      <td>153.8</td>\n",
       "      <td>173.331302</td>\n",
       "    </tr>\n",
       "    <tr>\n",
       "      <th>1</th>\n",
       "      <td>1263.0</td>\n",
       "      <td>79</td>\n",
       "      <td>50</td>\n",
       "      <td>12</td>\n",
       "      <td>2019-12-02</td>\n",
       "      <td>2</td>\n",
       "      <td>1</td>\n",
       "      <td>126.3</td>\n",
       "      <td>169.053529</td>\n",
       "    </tr>\n",
       "    <tr>\n",
       "      <th>2</th>\n",
       "      <td>1265.0</td>\n",
       "      <td>74</td>\n",
       "      <td>68</td>\n",
       "      <td>0</td>\n",
       "      <td>2019-12-03</td>\n",
       "      <td>2</td>\n",
       "      <td>2</td>\n",
       "      <td>126.5</td>\n",
       "      <td>169.442417</td>\n",
       "    </tr>\n",
       "    <tr>\n",
       "      <th>3</th>\n",
       "      <td>1509.0</td>\n",
       "      <td>62</td>\n",
       "      <td>68</td>\n",
       "      <td>0</td>\n",
       "      <td>2019-12-04</td>\n",
       "      <td>2</td>\n",
       "      <td>3</td>\n",
       "      <td>150.9</td>\n",
       "      <td>170.375750</td>\n",
       "    </tr>\n",
       "    <tr>\n",
       "      <th>4</th>\n",
       "      <td>1748.0</td>\n",
       "      <td>37</td>\n",
       "      <td>0</td>\n",
       "      <td>0</td>\n",
       "      <td>2019-12-05</td>\n",
       "      <td>2</td>\n",
       "      <td>4</td>\n",
       "      <td>174.8</td>\n",
       "      <td>172.320192</td>\n",
       "    </tr>\n",
       "    <tr>\n",
       "      <th>5</th>\n",
       "      <td>2306.0</td>\n",
       "      <td>88</td>\n",
       "      <td>0</td>\n",
       "      <td>172</td>\n",
       "      <td>2019-12-06</td>\n",
       "      <td>2</td>\n",
       "      <td>5</td>\n",
       "      <td>230.6</td>\n",
       "      <td>168.353530</td>\n",
       "    </tr>\n",
       "    <tr>\n",
       "      <th>6</th>\n",
       "      <td>2531.0</td>\n",
       "      <td>92</td>\n",
       "      <td>2</td>\n",
       "      <td>21</td>\n",
       "      <td>2019-12-07</td>\n",
       "      <td>2</td>\n",
       "      <td>6</td>\n",
       "      <td>253.1</td>\n",
       "      <td>168.042419</td>\n",
       "    </tr>\n",
       "    <tr>\n",
       "      <th>7</th>\n",
       "      <td>1456.0</td>\n",
       "      <td>106</td>\n",
       "      <td>7</td>\n",
       "      <td>42</td>\n",
       "      <td>2019-12-08</td>\n",
       "      <td>2</td>\n",
       "      <td>0</td>\n",
       "      <td>145.6</td>\n",
       "      <td>166.953531</td>\n",
       "    </tr>\n",
       "    <tr>\n",
       "      <th>8</th>\n",
       "      <td>1394.0</td>\n",
       "      <td>80</td>\n",
       "      <td>23</td>\n",
       "      <td>39</td>\n",
       "      <td>2019-12-09</td>\n",
       "      <td>2</td>\n",
       "      <td>1</td>\n",
       "      <td>139.4</td>\n",
       "      <td>168.975751</td>\n",
       "    </tr>\n",
       "    <tr>\n",
       "      <th>9</th>\n",
       "      <td>1247.0</td>\n",
       "      <td>69</td>\n",
       "      <td>49</td>\n",
       "      <td>0</td>\n",
       "      <td>2019-12-10</td>\n",
       "      <td>2</td>\n",
       "      <td>2</td>\n",
       "      <td>124.7</td>\n",
       "      <td>169.831306</td>\n",
       "    </tr>\n",
       "  </tbody>\n",
       "</table>\n",
       "</div>"
      ],
      "text/plain": [
       "   Total sales per day  Temp 0.1 graden  Sunshine dura  Rainfall dura  \\\n",
       "0               1538.0               24             24              0   \n",
       "1               1263.0               79             50             12   \n",
       "2               1265.0               74             68              0   \n",
       "3               1509.0               62             68              0   \n",
       "4               1748.0               37              0              0   \n",
       "5               2306.0               88              0            172   \n",
       "6               2531.0               92              2             21   \n",
       "7               1456.0              106              7             42   \n",
       "8               1394.0               80             23             39   \n",
       "9               1247.0               69             49              0   \n",
       "\n",
       "     NewDate  season  Weekday  n_sales  Total sales per day_p  \n",
       "0 2019-12-01       2        0    153.8             173.331302  \n",
       "1 2019-12-02       2        1    126.3             169.053529  \n",
       "2 2019-12-03       2        2    126.5             169.442417  \n",
       "3 2019-12-04       2        3    150.9             170.375750  \n",
       "4 2019-12-05       2        4    174.8             172.320192  \n",
       "5 2019-12-06       2        5    230.6             168.353530  \n",
       "6 2019-12-07       2        6    253.1             168.042419  \n",
       "7 2019-12-08       2        0    145.6             166.953531  \n",
       "8 2019-12-09       2        1    139.4             168.975751  \n",
       "9 2019-12-10       2        2    124.7             169.831306  "
      ]
     },
     "execution_count": 249,
     "metadata": {},
     "output_type": "execute_result"
    }
   ],
   "source": [
    "Ndf['Total sales per day_p'] = lm.predict(x)\n",
    "Ndf.head(10)"
   ]
  },
  {
   "cell_type": "markdown",
   "metadata": {},
   "source": [
    "# Linear Regression Season/Weekday + Total sales per day"
   ]
  },
  {
   "cell_type": "code",
   "execution_count": 99,
   "metadata": {},
   "outputs": [
    {
     "data": {
      "text/html": [
       "<div>\n",
       "<style scoped>\n",
       "    .dataframe tbody tr th:only-of-type {\n",
       "        vertical-align: middle;\n",
       "    }\n",
       "\n",
       "    .dataframe tbody tr th {\n",
       "        vertical-align: top;\n",
       "    }\n",
       "\n",
       "    .dataframe thead th {\n",
       "        text-align: right;\n",
       "    }\n",
       "</style>\n",
       "<table border=\"1\" class=\"dataframe\">\n",
       "  <thead>\n",
       "    <tr style=\"text-align: right;\">\n",
       "      <th></th>\n",
       "      <th>season</th>\n",
       "      <th>Weekday</th>\n",
       "    </tr>\n",
       "    <tr>\n",
       "      <th>NewDate</th>\n",
       "      <th></th>\n",
       "      <th></th>\n",
       "    </tr>\n",
       "  </thead>\n",
       "  <tbody>\n",
       "    <tr>\n",
       "      <th>2019-12-01</th>\n",
       "      <td>2</td>\n",
       "      <td>0</td>\n",
       "    </tr>\n",
       "    <tr>\n",
       "      <th>2019-12-02</th>\n",
       "      <td>2</td>\n",
       "      <td>1</td>\n",
       "    </tr>\n",
       "    <tr>\n",
       "      <th>2019-12-03</th>\n",
       "      <td>2</td>\n",
       "      <td>2</td>\n",
       "    </tr>\n",
       "    <tr>\n",
       "      <th>2019-12-04</th>\n",
       "      <td>2</td>\n",
       "      <td>3</td>\n",
       "    </tr>\n",
       "    <tr>\n",
       "      <th>2019-12-05</th>\n",
       "      <td>2</td>\n",
       "      <td>4</td>\n",
       "    </tr>\n",
       "  </tbody>\n",
       "</table>\n",
       "</div>"
      ],
      "text/plain": [
       "            season  Weekday\n",
       "NewDate                    \n",
       "2019-12-01       2        0\n",
       "2019-12-02       2        1\n",
       "2019-12-03       2        2\n",
       "2019-12-04       2        3\n",
       "2019-12-05       2        4"
      ]
     },
     "execution_count": 99,
     "metadata": {},
     "output_type": "execute_result"
    }
   ],
   "source": [
    "y = df['Total sales per day'] \n",
    "X = df.loc[:,'season':'Weekday'] \n",
    "X.index = df['NewDate'] \n",
    "X.head()"
   ]
  },
  {
   "cell_type": "code",
   "execution_count": 145,
   "metadata": {
    "scrolled": false
   },
   "outputs": [
    {
     "data": {
      "text/html": [
       "<div>\n",
       "<style scoped>\n",
       "    .dataframe tbody tr th:only-of-type {\n",
       "        vertical-align: middle;\n",
       "    }\n",
       "\n",
       "    .dataframe tbody tr th {\n",
       "        vertical-align: top;\n",
       "    }\n",
       "\n",
       "    .dataframe thead th {\n",
       "        text-align: right;\n",
       "    }\n",
       "</style>\n",
       "<table border=\"1\" class=\"dataframe\">\n",
       "  <thead>\n",
       "    <tr style=\"text-align: right;\">\n",
       "      <th></th>\n",
       "      <th>season</th>\n",
       "      <th>Weekday</th>\n",
       "    </tr>\n",
       "    <tr>\n",
       "      <th>NewDate</th>\n",
       "      <th></th>\n",
       "      <th></th>\n",
       "    </tr>\n",
       "  </thead>\n",
       "  <tbody>\n",
       "    <tr>\n",
       "      <th>2020-04-13</th>\n",
       "      <td>0</td>\n",
       "      <td>1</td>\n",
       "    </tr>\n",
       "    <tr>\n",
       "      <th>2020-08-08</th>\n",
       "      <td>1</td>\n",
       "      <td>6</td>\n",
       "    </tr>\n",
       "    <tr>\n",
       "      <th>2020-01-23</th>\n",
       "      <td>3</td>\n",
       "      <td>4</td>\n",
       "    </tr>\n",
       "    <tr>\n",
       "      <th>2020-03-04</th>\n",
       "      <td>3</td>\n",
       "      <td>3</td>\n",
       "    </tr>\n",
       "    <tr>\n",
       "      <th>2020-04-06</th>\n",
       "      <td>0</td>\n",
       "      <td>1</td>\n",
       "    </tr>\n",
       "  </tbody>\n",
       "</table>\n",
       "</div>"
      ],
      "text/plain": [
       "            season  Weekday\n",
       "NewDate                    \n",
       "2020-04-13       0        1\n",
       "2020-08-08       1        6\n",
       "2020-01-23       3        4\n",
       "2020-03-04       3        3\n",
       "2020-04-06       0        1"
      ]
     },
     "execution_count": 145,
     "metadata": {},
     "output_type": "execute_result"
    }
   ],
   "source": [
    "X_train, X_test, y_train, y_test = train_test_split(X, y, test_size=0.3, random_state=1) \n",
    "X_train.head() #The train data"
   ]
  },
  {
   "cell_type": "code",
   "execution_count": 146,
   "metadata": {},
   "outputs": [],
   "source": [
    "lm = LinearRegression() #create the model\n",
    "model = lm.fit(X_train, y_train) #train the model"
   ]
  },
  {
   "cell_type": "code",
   "execution_count": 147,
   "metadata": {},
   "outputs": [
    {
     "data": {
      "text/html": [
       "<div>\n",
       "<style scoped>\n",
       "    .dataframe tbody tr th:only-of-type {\n",
       "        vertical-align: middle;\n",
       "    }\n",
       "\n",
       "    .dataframe tbody tr th {\n",
       "        vertical-align: top;\n",
       "    }\n",
       "\n",
       "    .dataframe thead th {\n",
       "        text-align: right;\n",
       "    }\n",
       "</style>\n",
       "<table border=\"1\" class=\"dataframe\">\n",
       "  <thead>\n",
       "    <tr style=\"text-align: right;\">\n",
       "      <th></th>\n",
       "      <th>0</th>\n",
       "    </tr>\n",
       "  </thead>\n",
       "  <tbody>\n",
       "    <tr>\n",
       "      <th>55.162427</th>\n",
       "      <td>season</td>\n",
       "    </tr>\n",
       "    <tr>\n",
       "      <th>200.536283</th>\n",
       "      <td>Weekday</td>\n",
       "    </tr>\n",
       "  </tbody>\n",
       "</table>\n",
       "</div>"
      ],
      "text/plain": [
       "                  0\n",
       "55.162427    season\n",
       "200.536283  Weekday"
      ]
     },
     "execution_count": 147,
     "metadata": {},
     "output_type": "execute_result"
    }
   ],
   "source": [
    "coef = pd.DataFrame(X.columns.values, lm.coef_) #this creates a df with a column with the column names, and the coefficients of the model\n",
    "coef"
   ]
  },
  {
   "cell_type": "code",
   "execution_count": 148,
   "metadata": {
    "scrolled": true
   },
   "outputs": [
    {
     "data": {
      "text/plain": [
       "0.5164532756411235"
      ]
     },
     "execution_count": 148,
     "metadata": {},
     "output_type": "execute_result"
    }
   ],
   "source": [
    "y_test_p = lm.predict(X_test)\n",
    "r2_score(y_test, y_test_p)"
   ]
  },
  {
   "cell_type": "code",
   "execution_count": 149,
   "metadata": {},
   "outputs": [
    {
     "data": {
      "text/plain": [
       "440.9330317113699"
      ]
     },
     "execution_count": 149,
     "metadata": {},
     "output_type": "execute_result"
    }
   ],
   "source": [
    "math.sqrt(mean_squared_error(y_test, y_test_p))"
   ]
  },
  {
   "cell_type": "code",
   "execution_count": 150,
   "metadata": {},
   "outputs": [
    {
     "data": {
      "image/png": "[encoded data removed]",
      "text/plain": [
       "<Figure size 432x288 with 1 Axes>"
      ]
     },
     "metadata": {
      "needs_background": "light"
     },
     "output_type": "display_data"
    }
   ],
   "source": [
    "sns.scatterplot(y_test, y_test_p)\n",
    "plt.xlabel('Actual sales')\n",
    "plt.ylabel('Predicted sales')\n",
    "plt.plot([0, 4000], [0, 4000], color='red', lw=3) #Plot a diagonal length\n",
    "plt.show()"
   ]
  },
  {
   "cell_type": "markdown",
   "metadata": {},
   "source": [
    "# RANDOM"
   ]
  },
  {
   "cell_type": "code",
   "execution_count": 96,
   "metadata": {
    "scrolled": false
   },
   "outputs": [
    {
     "name": "stdout",
     "output_type": "stream",
     "text": [
      "(0.03516315260483184, 0.5042332100840271)\n",
      "(-0.015471174597033049, 0.7689364085931714)\n",
      "(0.02970179478191507, 0.5727079304626618)\n"
     ]
    }
   ],
   "source": [
    "from scipy.stats.stats import pearsonr #We will need the correlation function from the scientific package scipy\n",
    "print(pearsonr(Ndf['Sunshine dura'],df['Roombotercroissant bake-off']))\n",
    "print(pearsonr(Ndf['Temp 0.1 graden'],df['Roombotercroissant bake-off']))\n",
    "print(pearsonr(Ndf['Rainfall dura'],df['Roombotercroissant bake-off']))"
   ]
  },
  {
   "cell_type": "code",
   "execution_count": 97,
   "metadata": {},
   "outputs": [
    {
     "name": "stdout",
     "output_type": "stream",
     "text": [
      "(0.2018099724887365, 0.00010810405611185727)\n",
      "(0.16157323304804852, 0.0020145367193250825)\n",
      "(-0.07245252159111497, 0.16837136943159992)\n"
     ]
    }
   ],
   "source": [
    "print(pearsonr(Ndf['Sunshine dura'],df['Baguette wit bake-off']))\n",
    "print(pearsonr(Ndf['Temp 0.1 graden'],df['Baguette wit bake-off']))\n",
    "print(pearsonr(Ndf['Rainfall dura'],df['Baguette wit bake-off']))"
   ]
  },
  {
   "cell_type": "markdown",
   "metadata": {},
   "source": [
    "To see if there is a correlation between individual pastries I selected two articles at random but with a high number of sales. The Croissant does not correlate with the weather. However the Baguette wit does have a higher correlation when it comes to Sunshine. Since the p = 0.001 it has a high correlation. This was however expected since baguette do sell better in the summer due to people having barbeques.  "
   ]
  },
  {
   "cell_type": "code",
   "execution_count": 144,
   "metadata": {
    "scrolled": false
   },
   "outputs": [
    {
     "data": {
      "text/plain": [
       "<matplotlib.axes._subplots.AxesSubplot at 0x11cefdaf0>"
      ]
     },
     "execution_count": 144,
     "metadata": {},
     "output_type": "execute_result"
    },
    {
     "data": {
      "image/png": "[encoded data removed]",
      "text/plain": [
       "<Figure size 432x288 with 1 Axes>"
      ]
     },
     "metadata": {
      "needs_background": "light"
     },
     "output_type": "display_data"
    }
   ],
   "source": [
    "sns.barplot(x=\"Weekday\", y=\"Total sales per day\", data=df)"
   ]
  }
 ],
 "metadata": {
  "kernelspec": {
   "display_name": "Python 3",
   "language": "python",
   "name": "python3"
  },
  "language_info": {
   "codemirror_mode": {
    "name": "ipython",
    "version": 3
   },
   "file_extension": ".py",
   "mimetype": "text/x-python",
   "name": "python",
   "nbconvert_exporter": "python",
   "pygments_lexer": "ipython3",
   "version": "3.8.3"
  }
 },
 "nbformat": 4,
 "nbformat_minor": 4
}
